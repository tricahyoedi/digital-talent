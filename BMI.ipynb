{
 "cells": [
  {
   "cell_type": "code",
   "execution_count": 1,
   "metadata": {},
   "outputs": [
    {
     "name": "stdout",
     "output_type": "stream",
     "text": [
      "Severely underweight\n",
      "BMI anda : 15.91695501730104\n"
     ]
    }
   ],
   "source": [
    "beratBadan = 46\n",
    "tinggiBadanCm = 170\n",
    "tinggiBadanM = tinggiBadanCm/100\n",
    "\n",
    "BMI = beratBadan / (tinggiBadanM*tinggiBadanM)\n",
    "\n",
    "if BMI < 15:\n",
    "    print ('Very severely underweigh')\n",
    "elif BMI < 16:\n",
    "    print ('Severely underweight')\n",
    "elif BMI < 18.5:\n",
    "    print ('Underweight')\n",
    "elif BMI < 25:\n",
    "    print ('Normal (healthy weight)')\n",
    "elif BMI < 30:\n",
    "    print ('Overweight')\n",
    "elif BMI < 35:\n",
    "    print ('Moderately obese')\n",
    "elif BMI < 40:\n",
    "    print ('Severely obese')\n",
    "else:\n",
    "    print ('Very severely obese')\n",
    "    \n",
    "print ('BMI anda :', BMI)"
   ]
  },
  {
   "cell_type": "code",
   "execution_count": 3,
   "metadata": {},
   "outputs": [
    {
     "name": "stdout",
     "output_type": "stream",
     "text": [
      "Berat badan anda:15\n",
      "Tinggi badan anda (cm):170\n",
      "Very severely underweigh\n",
      "BMI anda : 5.190311418685122\n"
     ]
    }
   ],
   "source": [
    "beratBadan = eval (input ('Berat badan anda:'))\n",
    "tinggiBadanCm = eval (input ('Tinggi badan anda (cm):'))\n",
    "tinggiBadanM = tinggiBadanCm/100\n",
    "\n",
    "BMI = beratBadan / (tinggiBadanM*tinggiBadanM)\n",
    "\n",
    "if BMI < 15:\n",
    "    print ('Very severely underweigh')\n",
    "elif BMI < 16:\n",
    "    print ('Severely underweight')\n",
    "elif BMI < 18.5:\n",
    "    print ('Underweight')\n",
    "elif BMI < 25:\n",
    "    print ('Normal (healthy weight)')\n",
    "elif BMI < 30:\n",
    "    print ('Overweight')\n",
    "elif BMI < 35:\n",
    "    print ('Moderately obese')\n",
    "elif BMI < 40:\n",
    "    print ('Severely obese')\n",
    "else:\n",
    "    print ('Very severely obese')\n",
    "    \n",
    "print ('BMI anda :', BMI)"
   ]
  },
  {
   "cell_type": "code",
   "execution_count": null,
   "metadata": {},
   "outputs": [],
   "source": []
  }
 ],
 "metadata": {
  "kernelspec": {
   "display_name": "Python 3",
   "language": "python",
   "name": "python3"
  },
  "language_info": {
   "codemirror_mode": {
    "name": "ipython",
    "version": 3
   },
   "file_extension": ".py",
   "mimetype": "text/x-python",
   "name": "python",
   "nbconvert_exporter": "python",
   "pygments_lexer": "ipython3",
   "version": "3.7.0"
  }
 },
 "nbformat": 4,
 "nbformat_minor": 2
}
