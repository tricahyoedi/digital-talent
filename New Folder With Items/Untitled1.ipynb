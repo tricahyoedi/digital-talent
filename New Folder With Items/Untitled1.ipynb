{
 "cells": [
  {
   "cell_type": "code",
   "execution_count": 3,
   "metadata": {},
   "outputs": [
    {
     "name": "stdout",
     "output_type": "stream",
     "text": [
      "['797259985\\t20171025\\t201710\\t2017\\t2017.8082\\t\\t\\t\\t\\t\\t\\t\\t\\t\\t\\tMIL\\tARMY\\t\\t\\t\\t\\t\\tMIL\\t\\t\\t0\\t062\\t062\\t06\\t2\\t7.4\\t10\\t1\\t10\\t4.5045045045045\\t0\\t\\t\\t\\t\\t\\t\\t1\\tSingapore\\tSN\\tSN\\t1.366667\\t103.8\\tSN\\t1\\tSingapore\\tSN\\tSN\\t1.366667\\t103.8\\tSN\\t20181025\\thttps://www.straitstimes.com/asia/east-asia/pledge-to-boost-defence-ties-in-region\\n', '797259986\\t20171025\\t201710\\t2017\\t2017.8082\\tAGR\\tFARMER\\t\\t\\t\\t\\t\\tAGR\\t\\t\\t\\t\\t\\t\\t\\t\\t\\t\\t\\t\\t0\\t020\\t020\\t02\\t1\\t3.0\\t140\\t10\\t140\\t-0.372647582235712\\t4\\tDubbo, New South Wales, Australia\\tAS\\tAS02\\t-32.243\\t148.605\\t-1570695\\t0\\t\\t\\t\\t\\t\\t\\t4\\tDubbo, New South Wales, Australia\\tAS\\tAS02\\t-32.243\\t148.605\\t-1570695\\t20181025\\thttps://www.moreechampion.com.au/story/5721423/inland-rail-bomb-targets-coalition-nsw-farmers-furious-with-government/?cs=1483\\n', '797259987\\t20171025\\t201710\\t2017\\t2017.8082\\tAUS\\tAUSTRALIA\\tAUS\\t\\t\\t\\t\\t\\t\\t\\t\\t\\t\\t\\t\\t\\t\\t\\t\\t\\t1\\t112\\t112\\t11\\t3\\t-2.0\\t4\\t1\\t4\\t-9.21985815602834\\t4\\tMount Barker, Western Australia, Australia\\tAS\\tAS08\\t-34.6308\\t117.666\\t-1589184\\t0\\t\\t\\t\\t\\t\\t\\t4\\tAdelaide, South Australia, Australia\\tAS\\tAS05\\t-34.9333\\t138.6\\t-1555188\\t20181025\\thttps://www.adelaidenow.com.au/news/law-order/para-vista-drug-house-murder-pair-charged-in-connection-to-albanian-mans-death/news-story/5d361ca5d694e77f57b1f05dfa109002?nk=742bc021185341649a80a01b6cb5f634-1540424846\\n', '797259988\\t20171025\\t201710\\t2017\\t2017.8082\\tBUS\\tEXPORTER\\t\\t\\t\\t\\t\\tBUS\\t\\t\\t\\t\\t\\t\\t\\t\\t\\t\\t\\t\\t0\\t010\\t010\\t01\\t1\\t0.0\\t16\\t2\\t16\\t-4.16127994384158\\t3\\tCarlton, Washington, United States\\tUS\\tUSWA\\t48.2482\\t-120.116\\t1517403\\t0\\t\\t\\t\\t\\t\\t\\t3\\tCarlton, Washington, United States\\tUS\\tUSWA\\t48.2482\\t-120.116\\t1517403\\t20181025\\thttps://theiranproject.com/blog/2018/10/25/saudi-crown-prince-has-blood-on-his-hands-erdogan-aide-says/\\n', '797259989\\t20171025\\t201710\\t2017\\t2017.8082\\tBUS\\tBUSINESS\\t\\t\\t\\t\\t\\tBUS\\t\\t\\tMED\\tWEBSITE\\t\\t\\t\\t\\t\\tMED\\t\\t\\t1\\t042\\t042\\t04\\t1\\t1.9\\t90\\t16\\t90\\t2.24516195517524\\t3\\tWashington, District of Columbia, United States\\tUS\\tUSDC\\t38.8951\\t-77.0364\\t531871\\t3\\tWashington, District of Columbia, United States\\tUS\\tUSDC\\t38.8951\\t-77.0364\\t531871\\t3\\tWashington, District of Columbia, United States\\tUS\\tUSDC\\t38.8951\\t-77.0364\\t531871\\t20181025\\thttps://www.pahomepage.com/news/microsofts-fiscal-1q-shines-with-help-from-new-bright-spots/1547173760\\n', '797259990\\t20171025\\t201710\\t2017\\t2017.8082\\tCANGOV\\tCANADA\\tCAN\\t\\t\\t\\t\\tGOV\\t\\t\\t\\t\\t\\t\\t\\t\\t\\t\\t\\t\\t0\\t040\\t040\\t04\\t1\\t1.0\\t56\\t28\\t56\\t-3.40721183354999\\t4\\tBrookfield, Nova Scotia, Canada\\tCA\\tCA07\\t45.25\\t-63.2833\\t-561700\\t0\\t\\t\\t\\t\\t\\t\\t4\\tBrookfield, Nova Scotia, Canada\\tCA\\tCA07\\t45.25\\t-63.2833\\t-561700\\t20181025\\thttps://medicinehatnews.com/business/2018/10/24/canadian-companies-weigh-in-on-whether-theyll-attend-saudi-conference/\\n', '797259991\\t20171025\\t201710\\t2017\\t2017.8082\\tCHN\\tCHINA\\tCHN\\t\\t\\t\\t\\t\\t\\t\\tLEG\\tCONGRESS\\t\\t\\t\\t\\t\\tLEG\\t\\t\\t0\\t010\\t010\\t01\\t1\\t0.0\\t12\\t6\\t12\\t-2.8856087933573\\t1\\tChina\\tCH\\tCH\\t35\\t105\\tCH\\t1\\tChina\\tCH\\tCH\\t35\\t105\\tCH\\t1\\tChina\\tCH\\tCH\\t35\\t105\\tCH\\t20181025\\thttp://neshobademocrat.com/Content/EDITORIAL/Editorial/Article/LOWRY-Trump-exposes-Russian-cheating/7/302/44013\\n', '797259992\\t20171025\\t201710\\t2017\\t2017.8082\\tDEU\\tGERMANY\\tDEU\\t\\t\\t\\t\\t\\t\\t\\tESP\\tSPAIN\\tESP\\t\\t\\t\\t\\t\\t\\t\\t0\\t036\\t036\\t03\\t1\\t4.0\\t4\\t4\\t4\\t3.48837209302325\\t4\\tNottingham, Nottingham, United Kingdom\\tUK\\tUKJ8\\t52.9667\\t-1.16667\\t-2604469\\t4\\tNottingham, Nottingham, United Kingdom\\tUK\\tUKJ8\\t52.9667\\t-1.16667\\t-2604469\\t4\\tNottingham, Nottingham, United Kingdom\\tUK\\tUKJ8\\t52.9667\\t-1.16667\\t-2604469\\t20181025\\thttps://www.ripleyandheanornews.co.uk/whats-on/music/interview-stone-foundation-reveal-all-about-latest-album-ahead-of-nottingham-visit-1-9412406\\n', '797259993\\t20171025\\t201710\\t2017\\t2017.8082\\tDEU\\tGERMANY\\tDEU\\t\\t\\t\\t\\t\\t\\t\\tESP\\tSPAIN\\tESP\\t\\t\\t\\t\\t\\t\\t\\t0\\t036\\t036\\t03\\t1\\t4.0\\t12\\t4\\t12\\t3.48837209302325\\t1\\tGermany\\tGM\\tGM\\t51.5\\t10.5\\tGM\\t1\\tSpain\\tSP\\tSP\\t40\\t-4\\tSP\\t1\\tSpain\\tSP\\tSP\\t40\\t-4\\tSP\\t20181025\\thttps://www.ripleyandheanornews.co.uk/whats-on/music/interview-stone-foundation-reveal-all-about-latest-album-ahead-of-nottingham-visit-1-9412406\\n', '797259994\\t20171025\\t201710\\t2017\\t2017.8082\\tDEU\\tGERMANY\\tDEU\\t\\t\\t\\t\\t\\t\\t\\tESP\\tSPAIN\\tESP\\t\\t\\t\\t\\t\\t\\t\\t0\\t036\\t036\\t03\\t1\\t4.0\\t4\\t4\\t4\\t3.48837209302325\\t1\\tJapan\\tJA\\tJA\\t36\\t138\\tJA\\t1\\tGermany\\tGM\\tGM\\t51.5\\t10.5\\tGM\\t1\\tSpain\\tSP\\tSP\\t40\\t-4\\tSP\\t20181025\\thttps://www.ripleyandheanornews.co.uk/whats-on/music/interview-stone-foundation-reveal-all-about-latest-album-ahead-of-nottingham-visit-1-9412406\\n']\n"
     ]
    }
   ],
   "source": [
    "from itertools import islice\n",
    "with open(\"20181025.export.CSV\") as myfile:\n",
    "    head = list(islice(myfile, 10))\n",
    "print (head)\n",
    "\n"
   ]
  },
  {
   "cell_type": "code",
   "execution_count": null,
   "metadata": {},
   "outputs": [],
   "source": []
  }
 ],
 "metadata": {
  "kernelspec": {
   "display_name": "Python 3",
   "language": "python",
   "name": "python3"
  },
  "language_info": {
   "codemirror_mode": {
    "name": "ipython",
    "version": 3
   },
   "file_extension": ".py",
   "mimetype": "text/x-python",
   "name": "python",
   "nbconvert_exporter": "python",
   "pygments_lexer": "ipython3",
   "version": "3.7.0"
  }
 },
 "nbformat": 4,
 "nbformat_minor": 2
}
