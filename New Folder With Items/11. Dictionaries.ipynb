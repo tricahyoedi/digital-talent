{
 "cells": [
  {
   "cell_type": "code",
   "execution_count": 1,
   "metadata": {},
   "outputs": [],
   "source": [
    "days = [31,28,31,30,31,30,31,31,30,31,30,31]\n"
   ]
  },
  {
   "cell_type": "markdown",
   "metadata": {},
   "source": [
    "# 11.1. Basics"
   ]
  },
  {
   "cell_type": "code",
   "execution_count": 4,
   "metadata": {},
   "outputs": [
    {
     "name": "stdout",
     "output_type": "stream",
     "text": [
      "{'A': 100, 'B': 200}\n"
     ]
    }
   ],
   "source": [
    "d = {'A':100,'B':200}\n",
    "print(d)"
   ]
  },
  {
   "cell_type": "code",
   "execution_count": 5,
   "metadata": {},
   "outputs": [],
   "source": [
    "d = {\n",
    "    'dog':'has tail dan menyalak',\n",
    "    'cat':'suka bilang meong',\n",
    "    'mouse':'suka dikejar kucing'\n",
    "}"
   ]
  },
  {
   "cell_type": "code",
   "execution_count": 6,
   "metadata": {},
   "outputs": [
    {
     "name": "stdout",
     "output_type": "stream",
     "text": [
      "Enter a word:dog\n",
      "The definition is: has tail dan menyalak\n"
     ]
    }
   ],
   "source": [
    "word = input ('Enter a word:')\n",
    "print ('The definition is:', d[word])"
   ]
  },
  {
   "cell_type": "code",
   "execution_count": 7,
   "metadata": {},
   "outputs": [],
   "source": [
    "numerals = {\n",
    "    'I':1, \n",
    "    'V':5,\n",
    "    'X':10,\n",
    "    'L':50,\n",
    "    'C':100,\n",
    "    'D':500,\n",
    "    'M':1000\n",
    "}"
   ]
  },
  {
   "cell_type": "code",
   "execution_count": 15,
   "metadata": {},
   "outputs": [
    {
     "name": "stdout",
     "output_type": "stream",
     "text": [
      "[{'value': 2, 'suit': 'spades'}, {'value': 3, 'suit': 'spades'}, {'value': 4, 'suit': 'spades'}, {'value': 5, 'suit': 'spades'}, {'value': 6, 'suit': 'spades'}, {'value': 7, 'suit': 'spades'}, {'value': 8, 'suit': 'spades'}, {'value': 9, 'suit': 'spades'}, {'value': 10, 'suit': 'spades'}, {'value': 11, 'suit': 'spades'}, {'value': 12, 'suit': 'spades'}, {'value': 13, 'suit': 'spades'}, {'value': 14, 'suit': 'spades'}, {'value': 2, 'suit': 'clubs'}, {'value': 3, 'suit': 'clubs'}, {'value': 4, 'suit': 'clubs'}, {'value': 5, 'suit': 'clubs'}, {'value': 6, 'suit': 'clubs'}, {'value': 7, 'suit': 'clubs'}, {'value': 8, 'suit': 'clubs'}, {'value': 9, 'suit': 'clubs'}, {'value': 10, 'suit': 'clubs'}, {'value': 11, 'suit': 'clubs'}, {'value': 12, 'suit': 'clubs'}, {'value': 13, 'suit': 'clubs'}, {'value': 14, 'suit': 'clubs'}, {'value': 2, 'suit': 'hearts'}, {'value': 3, 'suit': 'hearts'}, {'value': 4, 'suit': 'hearts'}, {'value': 5, 'suit': 'hearts'}, {'value': 6, 'suit': 'hearts'}, {'value': 7, 'suit': 'hearts'}, {'value': 8, 'suit': 'hearts'}, {'value': 9, 'suit': 'hearts'}, {'value': 10, 'suit': 'hearts'}, {'value': 11, 'suit': 'hearts'}, {'value': 12, 'suit': 'hearts'}, {'value': 13, 'suit': 'hearts'}, {'value': 14, 'suit': 'hearts'}, {'value': 2, 'suit': 'diamonds'}, {'value': 3, 'suit': 'diamonds'}, {'value': 4, 'suit': 'diamonds'}, {'value': 5, 'suit': 'diamonds'}, {'value': 6, 'suit': 'diamonds'}, {'value': 7, 'suit': 'diamonds'}, {'value': 8, 'suit': 'diamonds'}, {'value': 9, 'suit': 'diamonds'}, {'value': 10, 'suit': 'diamonds'}, {'value': 11, 'suit': 'diamonds'}, {'value': 12, 'suit': 'diamonds'}, {'value': 13, 'suit': 'diamonds'}, {'value': 14, 'suit': 'diamonds'}]\n",
      "2 spades\n"
     ]
    }
   ],
   "source": [
    "deck = [{'value':i,'suit':c}\n",
    "       for c in ['spades','clubs','hearts','diamonds']\n",
    "       for i in range(2,15)]\n",
    "# shuffle(deck)\n",
    "print (deck)\n",
    "# shuffle (deck)\n",
    "# print (deck)\n",
    "print (deck[0]['value'],deck[0]['suit'])"
   ]
  },
  {
   "cell_type": "markdown",
   "metadata": {},
   "source": [
    "# 11.3."
   ]
  },
  {
   "cell_type": "code",
   "execution_count": 16,
   "metadata": {},
   "outputs": [
    {
     "name": "stdout",
     "output_type": "stream",
     "text": [
      "{'dog': 'has tail dan menyalak', 'cat': 'suka bilang meong', 'mouse': 'suka dikejar kucing'}\n"
     ]
    }
   ],
   "source": [
    "print(d)"
   ]
  },
  {
   "cell_type": "code",
   "execution_count": 17,
   "metadata": {},
   "outputs": [],
   "source": [
    "d2 = d.copy()"
   ]
  },
  {
   "cell_type": "code",
   "execution_count": 18,
   "metadata": {},
   "outputs": [
    {
     "name": "stdout",
     "output_type": "stream",
     "text": [
      "{'dog': 'has tail dan menyalak', 'cat': 'suka bilang meong', 'mouse': 'suka dikejar kucing'}\n"
     ]
    }
   ],
   "source": [
    "print (d2)"
   ]
  },
  {
   "cell_type": "code",
   "execution_count": 19,
   "metadata": {},
   "outputs": [
    {
     "name": "stdout",
     "output_type": "stream",
     "text": [
      "{'A': 100, 'B': 200}\n"
     ]
    }
   ],
   "source": [
    "d = {'A':100,'B':200}\n",
    "print(d)"
   ]
  },
  {
   "cell_type": "code",
   "execution_count": 22,
   "metadata": {},
   "outputs": [
    {
     "name": "stdout",
     "output_type": "stream",
     "text": [
      "Enter a letter:a\n",
      "not in dict\n"
     ]
    }
   ],
   "source": [
    "letter = input('Enter a letter:')\n",
    "if letter in d:\n",
    "    print ('The value is:',d[letter])\n",
    "else:\n",
    "    print ('not in dict')"
   ]
  },
  {
   "cell_type": "code",
   "execution_count": 24,
   "metadata": {},
   "outputs": [
    {
     "name": "stdout",
     "output_type": "stream",
     "text": [
      "A\n",
      "B\n"
     ]
    }
   ],
   "source": [
    "for a in d:\n",
    "    print (a)"
   ]
  },
  {
   "cell_type": "code",
   "execution_count": 25,
   "metadata": {},
   "outputs": [
    {
     "name": "stdout",
     "output_type": "stream",
     "text": [
      "100\n",
      "200\n"
     ]
    }
   ],
   "source": [
    "for a in d:\n",
    "    print (d[a])"
   ]
  },
  {
   "cell_type": "code",
   "execution_count": 32,
   "metadata": {},
   "outputs": [
    {
     "name": "stdout",
     "output_type": "stream",
     "text": [
      "['A', 'B']\n",
      "[100, 200]\n",
      "[('A', 100), ('B', 200)]\n"
     ]
    }
   ],
   "source": [
    "print (\n",
    "    list(d)\n",
    ")\n",
    "\n",
    "print (\n",
    "    list (d.values())\n",
    ")\n",
    "\n",
    "print (\n",
    "    list(d.items())\n",
    ")"
   ]
  },
  {
   "cell_type": "code",
   "execution_count": 35,
   "metadata": {},
   "outputs": [
    {
     "name": "stdout",
     "output_type": "stream",
     "text": [
      "['A', 'C']\n"
     ]
    }
   ],
   "source": [
    "d = {'A':100,'B':200,'C':100}\n",
    "\n",
    "L = [x[0] for x in d.items() if x[1]==100]\n",
    "\n",
    "print (L)\n",
    "\n",
    "# L = [\n",
    "#     x[0]\n",
    "#     for x in d.items()\n",
    "#     if x[1]==100\n",
    "# ]"
   ]
  },
  {
   "cell_type": "code",
   "execution_count": 39,
   "metadata": {},
   "outputs": [
    {
     "name": "stdout",
     "output_type": "stream",
     "text": [
      "['During', 'the', 'course', 'of', 'this', 'book,', 'you', 'will', 'find', 'out', 'how', 'to', 'make', 'informed', 'decisions', 'about', 'what', 'algorithms', 'to', 'use', 'in', 'a', 'given', 'context.', 'Starting', 'from', 'the', 'basics', 'of', 'Artificial', 'Intelligence,', 'you', 'will', 'learn', 'how', 'to', 'develop', 'various', 'building', 'blocks', 'using', 'different', 'data', 'mining', 'techniques.', 'You', 'will', 'see', 'how', 'to', 'implement', 'different', 'algorithms', 'to', 'get', 'the', 'best', 'possible', 'results,', 'and', 'will', 'understand', 'how', 'to', 'apply', 'them', 'to', 'real', 'world', 'scenarios.', 'If', 'you', 'want', 'to', 'add', 'an', 'intelligence', 'layer', 'to', 'any', 'application', 'that’s', 'based', 'on', 'images,', 'text,', 'stock', 'market,', 'or', 'some', 'other', 'form', 'of', 'data,', 'this', 'exciting', 'book', 'on', 'Artificial', 'Intelligence', 'will', 'definitely', 'be', 'your', 'guide']\n"
     ]
    }
   ],
   "source": [
    "paragraf = 'During the course of this book, you will find out how to make informed decisions about what algorithms to use in a given context. Starting from the basics of Artificial Intelligence, you will learn how to develop various building blocks using different data mining techniques. You will see how to implement different algorithms to get the best possible results, and will understand how to apply them to real-world scenarios. If you want to add an intelligence layer to any application that’s based on images, text, stock market, or some other form of data, this exciting book on Artificial Intelligence will definitely be your guide'\n",
    "\n",
    "paragraf = paragraf.replace(\"/\",\" \")\n",
    "paragraf = paragraf.replace(\"(\",\" \")\n",
    "paragraf = paragraf.replace(\")\",\" \")\n",
    "paragraf = paragraf.replace(\"-\",\" \")\n",
    "words = paragraf.split()\n",
    "print(words)"
   ]
  },
  {
   "cell_type": "code",
   "execution_count": 40,
   "metadata": {},
   "outputs": [
    {
     "data": {
      "text/plain": [
       "list"
      ]
     },
     "execution_count": 40,
     "metadata": {},
     "output_type": "execute_result"
    }
   ],
   "source": [
    "type(words)"
   ]
  },
  {
   "cell_type": "code",
   "execution_count": 43,
   "metadata": {},
   "outputs": [
    {
     "name": "stdout",
     "output_type": "stream",
     "text": [
      "{'During': 1, 'the': 3, 'course': 1, 'of': 3, 'this': 2, 'book,': 1, 'you': 3, 'will': 5, 'find': 1, 'out': 1, 'how': 4, 'to': 9, 'make': 1, 'informed': 1, 'decisions': 1, 'about': 1, 'what': 1, 'algorithms': 2, 'use': 1, 'in': 1, 'a': 1, 'given': 1, 'context.': 1, 'Starting': 1, 'from': 1, 'basics': 1, 'Artificial': 2, 'Intelligence,': 1, 'learn': 1, 'develop': 1, 'various': 1, 'building': 1, 'blocks': 1, 'using': 1, 'different': 2, 'data': 1, 'mining': 1, 'techniques.': 1, 'You': 1, 'see': 1, 'implement': 1, 'get': 1, 'best': 1, 'possible': 1, 'results,': 1, 'and': 1, 'understand': 1, 'apply': 1, 'them': 1, 'real': 1, 'world': 1, 'scenarios.': 1, 'If': 1, 'want': 1, 'add': 1, 'an': 1, 'intelligence': 1, 'layer': 1, 'any': 1, 'application': 1, 'that’s': 1, 'based': 1, 'on': 2, 'images,': 1, 'text,': 1, 'stock': 1, 'market,': 1, 'or': 1, 'some': 1, 'other': 1, 'form': 1, 'data,': 1, 'exciting': 1, 'book': 1, 'Intelligence': 1, 'definitely': 1, 'be': 1, 'your': 1, 'guide': 1}\n"
     ]
    }
   ],
   "source": [
    "d = {s:len(s) for s in words}\n",
    "\n",
    "kamus = {}\n",
    "for i in words:\n",
    "    if i in kamus:\n",
    "         kamus[i] = kamus[i]+1\n",
    "    else:\n",
    "         kamus[i] = 1 \n",
    "print(kamus)"
   ]
  },
  {
   "cell_type": "code",
   "execution_count": 42,
   "metadata": {},
   "outputs": [
    {
     "data": {
      "text/plain": [
       "dict"
      ]
     },
     "execution_count": 42,
     "metadata": {},
     "output_type": "execute_result"
    }
   ],
   "source": [
    "type(d)"
   ]
  },
  {
   "cell_type": "code",
   "execution_count": 44,
   "metadata": {},
   "outputs": [
    {
     "name": "stdout",
     "output_type": "stream",
     "text": [
      "{'During': 1, 'the': 3, 'course': 1, 'of': 3, 'this': 2, 'book,': 1, 'you': 3, 'will': 5, 'find': 1, 'out': 1, 'how': 4, 'to': 9, 'make': 1, 'informed': 1, 'decisions': 1, 'about': 1, 'what': 1, 'algorithms': 2, 'use': 1, 'in': 1, 'a': 1, 'given': 1, 'context.': 1, 'Starting': 1, 'from': 1, 'basics': 1, 'Artificial': 2, 'Intelligence,': 1, 'learn': 1, 'develop': 1, 'various': 1, 'building': 1, 'blocks': 1, 'using': 1, 'different': 2, 'data': 1, 'mining': 1, 'techniques.': 1, 'You': 1, 'see': 1, 'implement': 1, 'get': 1, 'best': 1, 'possible': 1, 'results,': 1, 'and': 1, 'understand': 1, 'apply': 1, 'them': 1, 'real': 1, 'world': 1, 'scenarios.': 1, 'If': 1, 'want': 1, 'add': 1, 'an': 1, 'intelligence': 1, 'layer': 1, 'any': 1, 'application': 1, 'that’s': 1, 'based': 1, 'on': 2, 'images,': 1, 'text,': 1, 'stock': 1, 'market,': 1, 'or': 1, 'some': 1, 'other': 1, 'form': 1, 'data,': 1, 'exciting': 1, 'book': 1, 'Intelligence': 1, 'definitely': 1, 'be': 1, 'your': 1, 'guide': 1}\n"
     ]
    }
   ],
   "source": [
    "kamus = {}\n",
    "for i in words:\n",
    "    if i in kamus:\n",
    "         kamus[i] = kamus[i]+1\n",
    "    else:\n",
    "         kamus[i] = 1 \n",
    "print(kamus)"
   ]
  },
  {
   "cell_type": "code",
   "execution_count": 45,
   "metadata": {},
   "outputs": [],
   "source": [
    "angka = [69, 9, 71, 77, 50, 56, 74, 74, 97, 95, 65, 82, 46, 30, 8, 3, 39, 9, 62, 47, 99, 18, 76, 11, 41, 10, 45, 30, 76, 59, 50, 76, 41, 79, 35, 23, 64, 75, 14, 22, 16, 47, 7, 99, 49, 51, 78, 75, 2, 54, 31, 92, 34, 70, 61, 69, 37, 40, 88, 61, 18, 10, 87, 35, 82, 67, 61, 40, 36, 68, 11, 76, 90, 9, 85, 44, 90, 71, 93, 3, 31, 67, 4, 52, 8, 50, 54, 96, 85, 62, 40, 72, 96, 19, 55, 83, 52, 31, 11, 41, 68, 16, 98, 86, 81, 42, 10, 65, 77, 56, 24, 70, 70, 60, 25, 84, 2, 6, 99, 98, 83, 29, 22, 4, 21, 62, 15, 72, 63, 19, 3, 44, 45, 21, 83, 75, 41, 15, 53, 17, 31, 63, 15, 28, 35, 56, 65, 43, 60, 10, 29, 77, 50, 43, 74, 27, 31, 55, 54, 50, 33, 73, 14, 93, 77, 40, 91, 63, 27, 6, 80, 20, 35, 36, 27, 98, 8, 37, 19, 39, 89, 5, 83, 47, 32, 61, 88, 30, 52, 94, 99, 35, 58, 83, 89, 9, 74, 4, 47, 12, 50, 93, 45, 89, 36, 47, 45, 22, 39, 41, 13, 20, 8, 95, 85, 40, 88, 74, 63, 52, 58, 23, 94, 92, 73, 26, 27, 48, 66, 68, 17, 19, 34, 43, 35, 75, 19, 9, 59, 78, 27, 76, 62, 83, 26, 97, 83, 5, 70, 97]"
   ]
  },
  {
   "cell_type": "code",
   "execution_count": 46,
   "metadata": {},
   "outputs": [
    {
     "name": "stdout",
     "output_type": "stream",
     "text": [
      "[69, 9, 71, 77, 50, 56, 74, 74, 97, 95, 65, 82, 46, 30, 8, 3, 39, 9, 62, 47, 99, 18, 76, 11, 41, 10, 45, 30, 76, 59, 50, 76, 41, 79, 35, 23, 64, 75, 14, 22, 16, 47, 7, 99, 49, 51, 78, 75, 2, 54, 31, 92, 34, 70, 61, 69, 37, 40, 88, 61, 18, 10, 87, 35, 82, 67, 61, 40, 36, 68, 11, 76, 90, 9, 85, 44, 90, 71, 93, 3, 31, 67, 4, 52, 8, 50, 54, 96, 85, 62, 40, 72, 96, 19, 55, 83, 52, 31, 11, 41, 68, 16, 98, 86, 81, 42, 10, 65, 77, 56, 24, 70, 70, 60, 25, 84, 2, 6, 99, 98, 83, 29, 22, 4, 21, 62, 15, 72, 63, 19, 3, 44, 45, 21, 83, 75, 41, 15, 53, 17, 31, 63, 15, 28, 35, 56, 65, 43, 60, 10, 29, 77, 50, 43, 74, 27, 31, 55, 54, 50, 33, 73, 14, 93, 77, 40, 91, 63, 27, 6, 80, 20, 35, 36, 27, 98, 8, 37, 19, 39, 89, 5, 83, 47, 32, 61, 88, 30, 52, 94, 99, 35, 58, 83, 89, 9, 74, 4, 47, 12, 50, 93, 45, 89, 36, 47, 45, 22, 39, 41, 13, 20, 8, 95, 85, 40, 88, 74, 63, 52, 58, 23, 94, 92, 73, 26, 27, 48, 66, 68, 17, 19, 34, 43, 35, 75, 19, 9, 59, 78, 27, 76, 62, 83, 26, 97, 83, 5, 70, 97]\n"
     ]
    }
   ],
   "source": [
    "print(angka)"
   ]
  },
  {
   "cell_type": "code",
   "execution_count": null,
   "metadata": {},
   "outputs": [],
   "source": [
    "L = [x[0] for x in d.items() if x[1]>=1]"
   ]
  },
  {
   "cell_type": "code",
   "execution_count": 50,
   "metadata": {},
   "outputs": [
    {
     "name": "stdout",
     "output_type": "stream",
     "text": [
      "{69: 2, 9: 5, 71: 2, 77: 4, 50: 6, 56: 3, 74: 5, 97: 3, 95: 2, 65: 3, 82: 2, 46: 1, 30: 3, 8: 4, 3: 3, 39: 3, 62: 4, 47: 5, 99: 4, 18: 2, 76: 5, 11: 3, 41: 5, 10: 4, 45: 4, 59: 2, 79: 1, 35: 6, 23: 2, 64: 1, 75: 4, 14: 2, 22: 3, 16: 2, 7: 1, 49: 1, 51: 1, 78: 2, 2: 2, 54: 3, 31: 5, 92: 2, 34: 2, 70: 4, 61: 4, 37: 2, 40: 5, 88: 3, 87: 1, 67: 2, 36: 3, 68: 3, 90: 2, 85: 3, 44: 2, 93: 3, 4: 3, 52: 4, 96: 2, 72: 2, 19: 5, 55: 2, 83: 7, 98: 3, 86: 1, 81: 1, 42: 1, 24: 1, 60: 2, 25: 1, 84: 1, 6: 2, 29: 2, 21: 2, 15: 3, 63: 4, 53: 1, 17: 2, 28: 1, 43: 3, 27: 5, 33: 1, 73: 2, 91: 1, 80: 1, 20: 2, 89: 3, 5: 2, 32: 1, 94: 2, 58: 2, 12: 1, 13: 1, 26: 2, 48: 1, 66: 1}\n"
     ]
    }
   ],
   "source": [
    "angkaDict = {}\n",
    "\n",
    "for i in angka:\n",
    "    if i in angkaDict:\n",
    "         angkaDict[i] = angkaDict[i]+1\n",
    "    else:\n",
    "         angkaDict[i] = 1 \n",
    "print(angkaDict)"
   ]
  },
  {
   "cell_type": "code",
   "execution_count": 55,
   "metadata": {},
   "outputs": [
    {
     "name": "stdout",
     "output_type": "stream",
     "text": [
      "7\n"
     ]
    }
   ],
   "source": [
    "L = [x[1] for x in angkaDict.items() if x[1]>=0]\n",
    "print (max(L))"
   ]
  },
  {
   "cell_type": "code",
   "execution_count": null,
   "metadata": {},
   "outputs": [],
   "source": []
  }
 ],
 "metadata": {
  "kernelspec": {
   "display_name": "Python 3",
   "language": "python",
   "name": "python3"
  },
  "language_info": {
   "codemirror_mode": {
    "name": "ipython",
    "version": 3
   },
   "file_extension": ".py",
   "mimetype": "text/x-python",
   "name": "python",
   "nbconvert_exporter": "python",
   "pygments_lexer": "ipython3",
   "version": "3.7.0"
  }
 },
 "nbformat": 4,
 "nbformat_minor": 2
}
