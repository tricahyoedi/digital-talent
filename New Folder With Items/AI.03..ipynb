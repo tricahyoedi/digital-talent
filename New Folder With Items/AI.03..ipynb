{
 "cells": [
  {
   "cell_type": "code",
   "execution_count": 12,
   "metadata": {},
   "outputs": [
    {
     "name": "stdout",
     "output_type": "stream",
     "text": [
      "<class 'int'> <class 'float'> <class 'float'>\n"
     ]
    }
   ],
   "source": [
    "a = 10\n",
    "b = c = 3.14\n",
    "# d = 51924361L\n",
    "# e = 3 + 4j\n",
    "\n",
    "print (type(a),type(b),type(c))"
   ]
  },
  {
   "cell_type": "code",
   "execution_count": 21,
   "metadata": {},
   "outputs": [
    {
     "name": "stdout",
     "output_type": "stream",
     "text": [
      "0\n",
      "0\n",
      "01\n",
      "012\n",
      "0123\n",
      "123\n",
      "4567\n"
     ]
    }
   ],
   "source": [
    "str = '01234567'\n",
    "print (str[0])\n",
    "print (str[0:1])\n",
    "print (str[0:2])\n",
    "print (str[0:3])\n",
    "print (str[0:4])\n",
    "print (str[1:4])\n",
    "print (str[4:])"
   ]
  },
  {
   "cell_type": "code",
   "execution_count": 29,
   "metadata": {},
   "outputs": [
    {
     "name": "stdout",
     "output_type": "stream",
     "text": [
      "['abcd', 123, 3.14, 'john', 70.56]\n",
      "['efgh', 5678]\n",
      "['abcd', 123, 3.14, 'john', 70.56]\n",
      "['efgh', 5678]\n"
     ]
    },
    {
     "ename": "TypeError",
     "evalue": "unsupported operand type(s) for +: 'NoneType' and 'NoneType'",
     "output_type": "error",
     "traceback": [
      "\u001b[0;31m---------------------------------------------------------------------------\u001b[0m",
      "\u001b[0;31mTypeError\u001b[0m                                 Traceback (most recent call last)",
      "\u001b[0;32m<ipython-input-29-f11b2162d47d>\u001b[0m in \u001b[0;36m<module>\u001b[0;34m()\u001b[0m\n\u001b[1;32m      3\u001b[0m \u001b[0mprint\u001b[0m \u001b[0;34m(\u001b[0m\u001b[0mlistSatu\u001b[0m\u001b[0;34m)\u001b[0m\u001b[0;34m\u001b[0m\u001b[0m\n\u001b[1;32m      4\u001b[0m \u001b[0mprint\u001b[0m \u001b[0;34m(\u001b[0m\u001b[0mlistDua\u001b[0m\u001b[0;34m)\u001b[0m\u001b[0;34m\u001b[0m\u001b[0m\n\u001b[0;32m----> 5\u001b[0;31m \u001b[0mprint\u001b[0m \u001b[0;34m(\u001b[0m\u001b[0mlistSatu\u001b[0m\u001b[0;34m)\u001b[0m \u001b[0;34m+\u001b[0m \u001b[0mprint\u001b[0m \u001b[0;34m(\u001b[0m\u001b[0mlistDua\u001b[0m\u001b[0;34m)\u001b[0m\u001b[0;34m\u001b[0m\u001b[0m\n\u001b[0m",
      "\u001b[0;31mTypeError\u001b[0m: unsupported operand type(s) for +: 'NoneType' and 'NoneType'"
     ]
    }
   ],
   "source": [
    "listSatu = ['abcd',123,3.14, 'john', 70.56]\n",
    "listDua  = ['efgh',5678]\n",
    "print (listSatu)\n",
    "print (listDua)\n",
    "print (listSatu) + print (listDua) "
   ]
  },
  {
   "cell_type": "code",
   "execution_count": 42,
   "metadata": {},
   "outputs": [
    {
     "name": "stdout",
     "output_type": "stream",
     "text": [
      "{'nama': 'Cahyo', 'alamat': 'Grabag', 'jumlah buku': 176}\n",
      "Cahyo\n",
      "dict_keys(['nama', 'alamat', 'jumlah buku'])\n",
      "dict_values(['Cahyo', 'Grabag', 176])\n"
     ]
    }
   ],
   "source": [
    "dictSatu = {}\n",
    "dictSatu['nama'] = 'Cahyo'\n",
    "dictSatu['alamat'] = 'Grabag'\n",
    "dictSatu['jumlah buku'] = 176\n",
    "\n",
    "print (dictSatu)\n",
    "\n",
    "print (dictSatu['nama'])\n",
    "\n",
    "print (dictSatu.keys())\n",
    "\n",
    "print (dictSatu.values())"
   ]
  },
  {
   "cell_type": "code",
   "execution_count": null,
   "metadata": {},
   "outputs": [],
   "source": []
  }
 ],
 "metadata": {
  "kernelspec": {
   "display_name": "Python 3",
   "language": "python",
   "name": "python3"
  },
  "language_info": {
   "codemirror_mode": {
    "name": "ipython",
    "version": 3
   },
   "file_extension": ".py",
   "mimetype": "text/x-python",
   "name": "python",
   "nbconvert_exporter": "python",
   "pygments_lexer": "ipython3",
   "version": "3.7.0"
  }
 },
 "nbformat": 4,
 "nbformat_minor": 2
}
