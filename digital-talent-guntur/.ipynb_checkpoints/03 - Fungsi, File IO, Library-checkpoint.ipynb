{
 "cells": [
  {
   "cell_type": "markdown",
   "metadata": {},
   "source": [
    "# 1. Fungsi / Subprogram\n",
    "Fungsi / Subprogram digunakan untuk mengelompokkan beberapa syntaks dalam satu kelompok statement. Pada umumnya kelompok statement ini sering dikerjakan berulang kali. Ketika program kita sudah cukup besar, fungsi dapat digunakan untuk mem breakdown potongan-potongan kode agar menjadi beberapa kesatuan kecil.\n",
    "\n",
    "## 1.1 Deklarasi Fungsi\n",
    "Berikut diberikan contoh untuk mendeklarasikan fungsi bernama hello, yang menerima parameter berupa bilangan n. Tujuan dari fungsi ini akan mengoutputkan kata \"hello\" sebanyak n kali"
   ]
  },
  {
   "cell_type": "code",
   "execution_count": null,
   "metadata": {},
   "outputs": [],
   "source": [
    "def hello(n,k,j):\n",
    "    for i in range(n):\n",
    "        print(i,k,j)"
   ]
  },
  {
   "cell_type": "markdown",
   "metadata": {},
   "source": [
    "## 1.2 Pemanggilan Fungsi"
   ]
  },
  {
   "cell_type": "code",
   "execution_count": null,
   "metadata": {},
   "outputs": [],
   "source": [
    "hello(10,\"Tutorial Bahasa Python\",\"Test\")"
   ]
  },
  {
   "cell_type": "markdown",
   "metadata": {},
   "source": [
    "## 1.3 Fungsi yang Mengirimkan Kembalian Nilai\n",
    "Dalam contoh fungsi yang pertama, fungsi tersebut hanya menjalankan sebuah perintah. Namun fungsi juga seringkali digunakan untuk melakukan perhitungan dan kemudian nilainya dipergunakan dalam proses selanjutnya. seperti contoh berikut:"
   ]
  },
  {
   "cell_type": "code",
   "execution_count": null,
   "metadata": {},
   "outputs": [],
   "source": [
    "def faktorial(n):\n",
    "    i = 1\n",
    "    result = 1\n",
    "    while i<n:\n",
    "        result = result * n\n",
    "        n = n - 1\n",
    "\n",
    "    return result"
   ]
  },
  {
   "cell_type": "code",
   "execution_count": null,
   "metadata": {},
   "outputs": [],
   "source": [
    "# hasil = faktorial(5)\n",
    "# print(hasil)\n",
    "\n",
    "hasil = faktorial(2) * faktorial(3)\n",
    "print(hasil)\n"
   ]
  },
  {
   "cell_type": "markdown",
   "metadata": {},
   "source": [
    "# 2. FILE INPUT OUTPUT\n",
    "Seringkali kita ingin menyimpan hasil output dari program ke dalam sebuah File, ataupun membaca data yang ada dari file. Python menyediakan fungsi untuk hal ini\n",
    "\n",
    "# 2.1 Menulis ke File\n",
    "Dalam penulisan ke file, awalnya kita harus membuat / membuka sebuah file dengan mode 'w' atau write. Kemudian kita bisa memasukkan teks ke dalam file tersebut. Setelah selesai menulis, kita bisa close file tersebut. Kalian bisa mengeceknya dalam folder yang sama dengan ipynb ini, apakah file sudah terbuat"
   ]
  },
  {
   "cell_type": "code",
   "execution_count": null,
   "metadata": {},
   "outputs": [],
   "source": [
    "f = open('data.txt','w')\n",
    "f.write('Hello World! \\nHello Again \\n')\n",
    "f.write(\"This is our new text file \\n\") \n",
    "f.write(\"and this is another line \\n\") \n",
    "f.write(\"Why? Because we can\") \n",
    "f.close()"
   ]
  },
  {
   "cell_type": "markdown",
   "metadata": {},
   "source": [
    "## 2.2 Membaca dari File "
   ]
  },
  {
   "cell_type": "code",
   "execution_count": null,
   "metadata": {},
   "outputs": [],
   "source": [
    "fo = open('data.txt','r')\n",
    "print(fo.read())\n",
    "fo.close()"
   ]
  },
  {
   "cell_type": "code",
   "execution_count": null,
   "metadata": {},
   "outputs": [],
   "source": [
    "fo = open('data.txt','r')\n",
    "for line in fo:\n",
    "    print(\"===\")\n",
    "    print(line.upper())\n",
    "fo.close()"
   ]
  },
  {
   "cell_type": "markdown",
   "metadata": {},
   "source": [
    "# 3. Import"
   ]
  },
  {
   "cell_type": "markdown",
   "metadata": {},
   "source": [
    "Seringkali kita tidak perlu melakukan implementasi ulang terhadap banyak kasus seperti analisa statistik sederhana, melakukan random, fungsi matematika sederhana sampai yang kompleks, dan lain sebagainya. Kita bisa menggunakan module / library yang telah disediakan oleh python ataupun library yang telah dibuat oleh orang"
   ]
  },
  {
   "cell_type": "markdown",
   "metadata": {},
   "source": [
    "## 3.1 Modul Random"
   ]
  },
  {
   "cell_type": "code",
   "execution_count": null,
   "metadata": {},
   "outputs": [],
   "source": [
    "import random\n",
    "\n",
    "r = random.random()\n",
    "print(r)\n",
    "r = random.randint(50,100)\n",
    "print(r)"
   ]
  },
  {
   "cell_type": "code",
   "execution_count": null,
   "metadata": {},
   "outputs": [],
   "source": [
    "dir(random)"
   ]
  },
  {
   "cell_type": "markdown",
   "metadata": {},
   "source": [
    "## 3.2 Modul Statistics"
   ]
  },
  {
   "cell_type": "code",
   "execution_count": null,
   "metadata": {},
   "outputs": [],
   "source": [
    "import statistics as sta\n",
    "\n",
    "a = [0, 1, 1, 3, 4, 9, 15]\n",
    "\n",
    "b = sta.mean(a)\n",
    "c = sta.median(a)\n",
    "d = sta.mode(a)\n",
    "e = sta.stdev(a)\n",
    "f = sta.variance(a)\n",
    "\n",
    "print(b,c,d,e,f)"
   ]
  },
  {
   "cell_type": "code",
   "execution_count": null,
   "metadata": {},
   "outputs": [],
   "source": [
    "dir(statistics)"
   ]
  },
  {
   "cell_type": "markdown",
   "metadata": {},
   "source": [
    "Jika gagal import, maka package tersebut belum ada dalam library di komputer lokal kita.\n",
    "Kita harus mendownload nya dari package manager python.\n",
    "package manager : pip, conda"
   ]
  },
  {
   "cell_type": "markdown",
   "metadata": {},
   "source": [
    "## 3.3 Modul Math"
   ]
  },
  {
   "cell_type": "code",
   "execution_count": 167,
   "metadata": {},
   "outputs": [
    {
     "name": "stdout",
     "output_type": "stream",
     "text": [
      "120 3.141592653589793 2.23606797749979 8.0\n"
     ]
    }
   ],
   "source": [
    "import math\n",
    "\n",
    "a = math.factorial(5)\n",
    "b = math.pi\n",
    "c = math.sqrt(5)\n",
    "d = math.log(256, 2)\n",
    "\n",
    "print(a,b,c,d)"
   ]
  },
  {
   "cell_type": "markdown",
   "metadata": {},
   "source": [
    "## 3.4 Modul CSV"
   ]
  },
  {
   "cell_type": "code",
   "execution_count": 177,
   "metadata": {},
   "outputs": [
    {
     "name": "stdout",
     "output_type": "stream",
     "text": [
      "E:\\KAMPUS\\NGAJAR\\Digital Talent\\notebooks\n",
      "['No ', 'Bencana ', 'Tanggal ', 'Jam ', 'Bujur ', 'Lintang ', 'Lokasi ', 'Korban ', 'Kerugian ', 'Keterangan ']\n",
      "=================\n",
      "['1', 'Kekeringan', '9/29/2013', '', '110.14', '-7.15097', '\"Kampung Laut Kawungaten Kedungmangu Gadingreja Adipala Bantarsari Cilacap Tengah Jeruklegi Majenang Nusawungu Kec. Karangbojong', ' Kec.Patimoan', ' Kab.Cilacap', ' Prov. Jawa Tengah\"', 'nihil', 'Â± 800 ha sawah mengalami kekeringan', '\"Kronologis : - Kekeringan terjadi pada akhir Agustus awal September yang disebabkan oleh musim kemarau Upaya : - BPBD melakukan pemasangan hidrant umum (air bersih) di beberapa titik. - BPBD melakukan pembagian 400 tandon air dan 5.000 drigen - BPBD melakukan pengiriman air bersih secara rutin Kendala : -Warga kekurangan air bersih', ' irigasi mengalami kekeringan', ' distribusi air bersih mengalami kesulitan', ' PDAM mengalami kekurangan produksi air bersih\"']\n",
      "=================\n",
      "['2', 'Kekeringan', '9/23/2013', '12.30 WIB', '106.842', '-6.17332', 'Jl. Krmat III Dalam RT. 06 / 08 Kel. Kwitang Kec. Senin Jakarta Pusat Prov. DKI Jakarta', 'nihil', '1 rumah terbakar', 'Kronologis : - Api berasal dari Korsleting arus listrik Upaya : - Penanganan 11 unit mobil DPK Jakarta Pusat - Tindak lanjut POLSEK dan SATPOL PP setempat']\n",
      "=================\n",
      "['3', 'Kekeringan', '9/23/2013', '15:32 WIB', '106.845', '-6.21154', '\"Jl. Cibubur', ' Blok Dukuh', ' No. 6 RT. 02 / 10 Kel. Cibubur Kec. Ciracas Kota Adm. Jakarta Timur Prov. DKI Jakarta\"', 'nihil', '1 rumah terbakar', 'Kronologis : - Api berasal dari Korsleting arus listrik Upaya : - Penanganan 5 unit mobil DPK Jakarta Timur - Tindak lanjut POLSEK dan SATPOL PP setempat']\n",
      "=================\n",
      "['4', 'Kekeringan', '9/23/2013', '18.25 WIB', '106.845', '-6.21154', 'Jl. Kebon Tebu RT. 019 / 17 Kel. Muara Baru Kec. Penjaringan Kota Adm. Jakarta Utara Prov. DKI Jakarta', 'nihil', '50 rumah petakan terbakar', 'Kronologis : - Api berasal dari Korsleting arus listrik Upaya : - Penanganan 20 unit mobil DPK Jakarta Utara - Tindak lanjut POLSEK dan SATPOL PP setempat']\n",
      "=================\n",
      "['5', 'Kekeringan', '9/20/2013', '', '108.564', '-6.71553', 'Provinsi Jawa Barat Kota Cirebon Kec. Harjamukti Kel. Argasunya', 'Sebagian wilayah Kel. Argasunya dan Kel. Kalijaga Kec. JHarjamukti Kota Cirebon terdampak', 'Dalam Pendataan', 'Kronologis : - Musim Kemarau Upaya : - Walikota Cirebon Menetapkan Status Siaga Darurat Bencana Musim Kemarau Basah/Kekeringan terhitung mulai 15 September s/d 16 Desember 2013']\n",
      "=================\n",
      "['6', 'Kekeringan', '9/19/2013', '', '113.464', '-7.1646', 'Ds. Bujur Barat Ds. Bujur Timur Ds. Ponjanan Barat Ds. Ponjanan Timur Ds. Blabau Kec. Batumarmar Kec. Pasean Ds. Tagengser Laok Ds. Waru Barat Ds. Tampojung Guwa Ds. Tampojung Pregih Ds. Tampojung Tengah Kec. Waru Ds. Larangan Luar Ds. Larangan Dalam Ds. Kaduara Barat Kec. Larangan Ds. Angsanah Kec. Palengaan Ds. Palengaan Laok Ds. Larangan Tlesah Ds. Branta Tinggi Kec. Tlanakan Ds. Pagagan Ds. Jarin Ds. Majungan Ds. Padellegan Kec. Pademawu Ds. Rangperang Laok Ds. Rangperang Daya Ds. Panaguan Kec. Proppo Ds. Ambender Kec. Pagantenan Ds. Kertagena Laok Ds. Sokalelah Kec. Kadur Kab. Pamekasan Prov. Jawa Timur', 'Nihil', 'Masih dalam pendataan', '\"*Kronologis : Menurunnya debit sumber mata air di musim kemarau *Upaya : -Menurunkan tim reaksi cepat BPBD Kab. Pamekasan ke desa terdampak untuk melakukan identifikasi bencana kekeringan -Melakukan koordinasi dengan dinas/instansi terkait dan Muspika yang terkena bencana -Pernyataan Darurat Bencana Bupati Pamekasan terkait bencana kekeringan selama 47 hari', ' terhitung sejak tanggal 9 September 2013 sampai dengan 25 Oktober 2013\"']\n",
      "=================\n",
      "['7', 'Kekeringan', '9/17/2013', '07.00 WIB', '112.898', '-7.64975', 'Ds. Sruwi Ds. Sumberejo Kec. Winongan Ds. Karanglo Kec. Grati Ds. Watulumbung Ds. Karangasem Ds. Karang Jati Ds. Cukurguling Kec. Lumbang Ds. Puspo Ds. Jimbaran Ds. Palangsari Kec. Puspo Ds. Wates Ds. Semendusari Ds. Pasinan Ds. Bulunganyar Kec. Lekok Kab. Pasuruan Prov. Jawa Timur', 'Nihil', 'Dalam proses pendataan', '\"Kondisi Mutakhir: Desa-desa yang terdampak; 1. Kec. Lekok - Ds. Bulunganyar - Ds. Pasinan - Ds. Semedusari - Ds. Wates 2. Kec. Puspo - Ds. Palangsari - Ds. Jimbaran - Ds. Puspo 3. Kec. Lumbang - Ds. Cukurguling - Ds. Karang Jati - Ds. Karangasem - Ds. Watulumbung 4. Kec. Grati - Ds. Karanglo 5. Kec. Winongan - Ds. Sumberejo - Ds. Sruwi. Kronologis: Musim Kemarau. Upaya: - BPBD menurunkan TRC untuk melakukan identifikasi bencana kekaringan. - Melakukan koordinasi dengan dinas / Instansi terkait dan Muspika yang terkena bencana. - pernyataan darurat bencana kekeringan di Kab. Pasuruan', ' terhitung sejak tanggal 9 September 2013 - 8 oktober 2013. - Penanganan Darurat bencana kekeringan di Kab. Pasuruan dengan menggunakan belanja tidak terduga. - 7 (tujuh) Armada yang digunakan dalam penanganan bencana kekeringan (3 Unit Truck Tangki Air Dinas Cipta Karya Kabupaten', ' 2 unit Truck air BPBD Kab. Pasuruan', ' 2 unit Truck Tangki Air PDAM Kab. Pasuruan). Kendala Dilapangan: - Menurunnya debit sumber mata air dimusim kemarau. - diperkirakan bencana kekeringan akan meluas diwilayah yang mengalami bencana kekeringan yaitu Kec. Gempol', ' Pasrepan', ' Nguling dan Kejayaan. Kebutuhan Mendesak: - Kebutuhan air bersih.\"']\n",
      "=================\n",
      "['8', 'Kekeringan', '9/17/2013', '07:00:00 WIB', '112.903', '-7.64487', 'Ds. Sruwi Ds. Sumberejo Kec. Winongan Ds. Karanglo Kec. Grati Ds. Cukurguling Ds. Karang Jati Ds. Karangasem Ds. Watulumbung Kec. Lumbang Ds. Bulunganyar Ds. Pasinan Ds. Semedusari Ds. Wates Kec. Puspo Ds. Palangsari Ds. Jimbaran Ds. Puspo Kec. Lekok Kab. Pasuruan Prov. Jawa Timur', 'Nihil', 'Dalam proses pendataan', '\"Kondisi Muktahir : Desa-Desa yang terdampak ; Kec. Lekok -Ds. Bulunganyar -Ds. Pasinan -Ds. Semedusari -Ds. Wates Kec. Puspo -Ds. Palangsari -Ds. Jimbaran -Ds. Puspo Kec. Lumbang -Ds. Cukurguling -Ds. Karang Jati -Ds. Karangasem -Ds. Watulumbung Kec. Grati -Ds. Karanglo Kec. Winongan -Ds. Sumberejo -Ds. Sruwi Kronologis : Musim Kemarau Upaya : â€¢ BPBD menurunkan TRC untuk melakukan identifikasi bencana kekeringan â€¢ Melakukan koordinasi dengan dinas/instansi terkait dan muspika yang terkena bencana â€¢ Pernyataan darurat bencana kekeringan di Kab. Pasuruan', ' terhitung sejak tanggal 9 Sept 2013 â€“ 8 Okt 2013 â€¢ Penanganan darurat bencana kekeringan di Kab. Pasuruan dengan menggunakan Belanja Tidak Terduga â€¢ 7 Armada yang digunakan dalam penanganan bencana kekeringan (3 Unit Truck Tangki Air Dinas Cipta Karya Kabupaten', ' 2 Unit Truck Air BPBD Kab. Pasuruan', ' 2 Unit Truck Tangki Air PDAM Kab. Pasuruan) Kendala Dilapangan : â€¢ Menurunnya debit sumber mata air dimusim kemarau â€¢ Diperkirakan bencan kekeringan akan meluas diwilayah yang berpotensi mengalami bencana kekeringan yaitu Kec. Gempol', ' Pasrepan', ' Nguling dan Kejayan Kebutuhan Mendesak : â€¢ Kebutuhan air bersih\"']\n",
      "=================\n",
      "['9', 'Kekeringan', '9/17/2013', '', '108.214', '-7.32795', '\"Kab. Tasikmalaya', ' Provinsi Jawa Barat\"', 'Masih dalam pendataan', 'Masih dalam pendataan', 'Kronologis : - Disebabkan oleh Musim Kemarau Upaya : - Bupati Tasikmalaya memutuskan Status Keadaan Darurat selama 3 (tiga) bulan sejak tanggal 17 September 2013']\n",
      "=================\n",
      "['10', 'Kekeringan', '9/16/2013', '', '107.617', '-6.81108', '\"Provinsi Jawa Barat Kab. Bandung Barat Kec Lembang', ' Kec. Parongpong', ' Kec. Cisarua', ' Kec. Ngamprah', ' Kec. Padalarang', ' Kec. Cikalongwetan', ' Kec. Cipendeuy', ' Kec. Cipatat', ' Kec. Batujajar', ' Kec. Cihampelas', ' Kec. Cililin', ' Kec. Sindangkerta', ' Kec. Gununghalu', ' Kec. Rongga', ' Kec. Cipongkor', ' Kec. Saguling.\"', 'Penduduk di 16 kecamatan terdampak', 'Dalam proses pendataan', 'Kronologis : - Musim Kemarau Upaya : - Bupati Bandung Barat menyatakan Siaga Darurat Bencana Kekeringan dan Krisis Air Bersih selama 3 (tiga) bulan terhitung sejak tanggal 16 September 2013 sampai dengan 16 Desember 2013']\n",
      "=================\n",
      "['11', 'Kekeringan', '9/16/2013', '', '108.35', '-7.33333', 'Provinsi Jawa Barat Kab. Ciamis', 'Pendataan', 'Sawah mengalami gagal panen', 'Kronologis : - Disebabkan oleh Musim Kemarau Upaya : - Bupati Ciamis Menyatakan Status Siaga Darurat Bencana Kekeringan terhitung mulai 16 September s/d 29 Nopember 2013 - Penanganan dilakukan terkoordinasi dengan Dinas terkait']\n",
      "=================\n",
      "['12', 'Kekeringan', '9/15/2013', '', '109.657', '-7.67868', '(83 Desa dalam pendataan) Kec. Kebumen Kec. Karang Sambung Kec. Sadar Kec. Karang Gayam Kec. Sempar Kec. Buayan Kec. Ayah Kec. Seruweng Kec. Kutowinangan Kec. Alian Kec. Padurso Kec. Poncowarno Kec. Rowokelih Kec. Pejagoan Kec. Kewarasan Kab. Kebumen Prov. Jawa Tengah', 'Nihil', 'Kesulitan mencari air bersih di 16 Kecamatan 83 desa', '\"*Kronologis: -Sejak pertengahan September sampai awal November curah hujan belum juga turun mengakibatkan sawah mengering Upaya : • BPBD Kab. Kebumen melakukan droping air bersih setiap hari 8 tangki', ' 1 hari 5 kali droping -BPBD Kab. Kebumen', ' Relawan PMI', ' ORARI', ' RAPI', ' SAR dan Swadaya Masyarakat melakukan pembuatan penampungan air bersih yang tersebar di 16 kecamatan\"']\n",
      "=================\n",
      "['13', 'Kekeringan', '9/9/2013', '', '107.61', '-6.91474', '\"Provinsi Jawa Barat Kab. Bandung Kec. Bojong Soang Ds. Cipagalo', ' Ds. Tegal Luar Kec. Margahayu Ds. Margahayu Selatan Kec. Margaasih Ds. Lagadar Kec. Katapang Ds. Katapang', ' Ds. Pangauban Kec. Dayeuhkolot Ds. Dayeuhkolot Kec. Banjaran Ds. Banjaran Wetan', ' Ds. Nalagasari', ' Ds. Tarajusari Kec. Cicalengka Ds. Cicalengka Wetan', ' Ds. Cicalengka Kulon', ' Ds. Narawita Kec. Nagreg Ds. Bojong', ' Ds. Citaman Kec. Rancaekek Ds. Sangjang', ' Ds. Linggar', ' Ds. Sukamanah', ' Ds. Jelagong Kec. Ciparay Ds. Ciparay', ' Ds. Pakutandang', ' Ds. Bumiwangi', ' Ds. Manggungharja', ' Ds. Mekarlaksana Kec. Ibun Ds. Ibun', ' Ds. Talud', ' Ds. Sudi', ' Ds. Pangguh Kec. Soreang Ds. Panyirapan', ' Ds. Pamekaran Kec. Pasirjambu Ds. Cukanggetang', ' Ds. Tenjolaya Kec. Ciwidey Ds. Nengkelan', ' Ds. Sukawening Kec. Cangkuang Ds. Cangkuang', ' Ds. Ciluncat Kec. Kutawaringin Ds. Jelegong', ' Ds. Jatisari', ' Ds. Pamentasan', ' Ds. Kutawaringin', ' Ds.Gajah Mekar Kec. Baleendah Kel. Jelekong', ' Kel. Baleendah', ' Kel. Wargamekar Kec. Margamekar Kec. Arjasari Ds. Arjasari', ' Ds. Patrolsari\"', 'Penduduk di 23 Kecamatan dan 54 Desa/Kelurahan terdampak', 'Nihil', 'Kronologis : - Musim Kemarau Upaya : - Bupati Bandung Menetapkan Status Darurat Kekeringan dan Krisis Air Bersih terhitung mulai 9 September s/d 9 Nopember 2013']\n",
      "=================\n",
      "['14', 'Kekeringan', '9/5/2013', '', '113.994', '-7.70555', 'Dsn.Krajan Dsn.Jambaran Dsn.Kembang Sari Timur Dsn.Sumber Pinang Dsn.Krajan Dsn.Tampelan Dsn.Langsat Dsn.Gebang Utara Dsn.Sokaan Utara Dsn.Krajan Dsn.Karang Tengah Dsn.Umbaran Dsn.Jerugen Dsn.Kembang Sambi Dsn.Alas Sumur Dsn.Tubo Timur Dsn.Tubo Barat Dsn.Krajan Barat Dsn.Krajan Timur Dsn.Pacalan Dsn.Tanah Merah Dsn.Tunggul Gunung Dsn.Pelle Dsn.Krajan Dsn.Kyumas Dsn.Sukmailang Dsn.Alon-Alon Dsn.Cottok Dsn.Dawuan Dsn.Koner Dsn.Karon Dsn.Tlagasari Dsn.Taman Rejo Dsn.Kacep Dsn.Betellok Dsn.Cobbuk Dsn.Mindi Dsn.Polay Dsn.Bendusa Dsn.Alon-Alon Dsn.Pao Dsn.Pelabuhan Dsn.Panapan Dsn.Galingan Dsn.Tete Dsn.Cora Malang Dsn.Timur Cora Dsn.Pedukuan Alang-Alang Dsn.Leduk Selatan Dsn.Bendera Ds.Sumberejo Ds.Bantal Ds.Sopet Ds.Agel Ds.Curah Tatal Ds.Jatisari Ds.Arjasa Ds.Ketowan Ds.Bayeman Ds.Kayumas Ds.Rajek Wesi Ds.Tambak Ukir Ds.Balung Ds.Pasir Putih Ds.Silomukti Ds.Cemara Ds.Gunung Putri Ds.Semambung Ds.Kembang Sari Ds.Plalangan Ds.Kalisari Ds.Teppos Ds.Krajan Kec.Banyu Glugur Kec.Sumber Malang Kec.Jatibanteng Kec.Suboh Kec.Mlandingan Kec.Bungatan Kec.Kendit Kec.Arjasa Kec.Jangkar Kec.Asem Bagus Kec.Banyu Putih Kab.Situbondo Prov.Jawa Timur', 'Nihil', 'Nihil', '\"Kondisi Muktahir: -Jarak lokasi ke kota 20 Kmâ€“65 Km -Jarak pengambilan air (Kering Kritis 3 Km)', ' (Kering 2 Km)', '(Sedang 1', '5 Km) -1 sampai 3 Titik Lokasi Pengiriman Air Bersih/Minum -Wilayah bencana kekeringan kritis ada di 9 Kecamatan', '15 Desa', '28 Dusun -40 Titik lokasi pengiriman kering kritis Kronologis: Kekeringan Air Bersih/ Minum Upaya:BPBD Merekap data wilayah kekeringan air bersih/minum\"']\n",
      "=================\n",
      "['15', 'Kekeringan', '9/2/2013', '-', '106.551', '-6.98727', '\"Kec. Tegal Buleud Ds. Calincing Kp. Puncak Sobong Rt.05/02 Ds. Rambay Kp. Cipari Rt. 03/08', ' Kec. Surade Ds. Sukatani Kp. Sukatani Ds. Pasir Ipis Kp. Pasir Ipis', ' Kec. Purabaya Ds. Cicukang Kp. Cibungur Rt', ' 03/05 Ds. Pagelaran Kp. Pagelaran', ' Kec. Jampang Kulon Ds. Tanjung Kp. Tanjung Kec. Palabuan Ratu Ds. Palabuan ratu Kp. Palabuan Ratu', ' Kec. Bantar Gadung Ds. Bojong Galing Kp. Panyairan', ' Kec. Cikembar Ds. Cikembang Kp. Ciangsana', ' Kec. Cimanggu Ds. Cimanggu Kp. Cimanggu Kab. Sukabumi Prov. Jawa Barat\"', 'Korban Jiwa/Terdampak : • Ds. Pagelaran 700 KK • Ds. Cimanngu 1 Desa • Ds. Calincing 235 Jiwa • Ds. Pasir Ipis 11 Kampung 3 RW • Ds. Cikembang 100 KK • Ds. Cicukang 500 KK • Ds. Rambay 258 KK • Ds. Tanjung 150 KK • Ds. Bojonggaling 246 KK • Ds. Palabuan ratu 30 KK • Ds. Sukatani 1 Desa', '\"Kerugian Materil : • Di Kec. Jampang Kulon', ' Ds. Cikarang ± 710.000 Ha lahan sawah terdampak kekeringan • Di Kec. Jampang Kulon', ' Ds. Tanjung', ' Kp. Tanjung ± 539.000 Ha lahan sawah terdampak kekeringan\"', 'Kronologis : Kekeringan terjadi pada akhir Agustus awal September yang disebabkan oleh musim kemarau Upaya : BPBD telah mengajukan bantuan ke Pemerintah Pusat untuk pemasangan pipa sarana air bersih sebanyak 10 unit']\n",
      "=================\n",
      "['16', 'Kekeringan', '9/2/2013', '-', '112.163', '-8.10144', '\"Kec. Nglegok Ds. Sumber Sari Kec. Panggung Rejo Ds. Serang', ' Ds. Sumbersih', ' Ds. Kaligambir', ' Ds. Kalitengah', ' Ds. Sumber Agung', ' Ds. Balerejo', ' Kec. Wonotirto Ds. Ngadiputrio', ' Ds. Ngeni', ' Ds. Wonotirto', ' Ds. Sumberboto', ' Ds. Gununggede', ' Ds', ' kaligrenjeng', ' Ds. Pasiraman', ' Kec. Wates Ds. Sumberanim', ' ds. Tugurejo', ' Ds. Salamrejo', ' Ds. Ringinrejo', ' Ds. Tugurejo', ' Ds. Mojorejo', ' Kec. Binangun Ds. Sumberkembar', ' Ds. Salamrejo', ' Ds. Sambigede', ' Ds. Birowo', ' Ds. Sukorame', ' Kec. Bakung Ds. Pulerejo Ds. Ngrejo', ' Ds. Lorejo', ' Kec. Kademangan Ds. Maron', ' Ds. Panggungduwet', ' Ds. Pakisaji', ' Ds. Kebon sari. Kab. Blitar', ' Provinsi Jawa Timur.\"', 'Korban Jiwa : Nihil', 'Kerugian Materil : Nihil', '\"Dampak Bencana : • Kekuranagn AIR • Tanah Kering • Sulit Mencari AIR Kronologis : Kekeringan terjadi pada akhir Agustus awal September yang disebabkan oleh musim kemarau Upaya : BPBD telah memberikan Pasokan Air bersih setiap hari Mulai jam 7 Pagi 5000 L / 1 tangki / truk', ' (Rp. 15.000-', '/1 Tangki) untuk Masak dan Minum masyarakat.\"']\n",
      "=================\n",
      "['17', 'Kekeringan', '9/1/2013', '', '108.84', '-6.83133', 'Ds. Kamal Ds. Pamulihan Kec. Larangan Ds. Pengantar Ds. Kalinusu Kec. Bumiayu Ds. Galuhtimur Ds. Rajawetan Kec. Tonjong Wilayah Selatan Kec. Brebes Kec. Wanasari Kec. Bulakamba Kec. Tanjung Kec. Losari Wilayah Timur Kab. Brebes Prov. Jawa Tengah', 'Nihil', 'Wilayah Timur : 150 Ha sawah kekeringan Wilayah Selatan : membutuhkan air bersih', '\"Kondisi Mutakhir : Kekeringan terjadi dari bulan agustus hingga batas waktu yang belum ditentukan Kronologis :Musim kemarau sejak bulan agustus hingga september Upaya : BPBD sudah menginventarisir desa yang membutuhkan air bersih', ' BPBD telah mengantisipasi /sudah menyiapkan armada pengangkutan air bersih bekerjasama dengan PDAM setempat Kebutuhan mendesak :Penambahan volume air bersih\"']\n",
      "=================\n",
      "['18', 'Kekeringan', '8/31/2013', '', '110.008', '-7.70973', 'Kec. Bagelen Kec. Purworejo Kec. Gerabak Kec. Kemiri Kec. Pituru Kec. Kaligesing Kec. Brunu Kab. Purworejo Prov. Jawa Tengah', 'Nihil', 'Masih dalam pendataan', '\"Kronologis :Musim kemarau Upaya : - BPBD', ' Dinas Pertanian', ' Balai Besar', ' Pengairan', ' dan SKPD terkait melakukan koordinasi - Mulai Tanggal 01 september 2013 BPBD telah mendistribusikan air bersih kedaerah-daerah yang membutuhkan Kebutuhan Mendesak : - Jaringan air bersih Kalakhar BPBD Kab. Purworejo\"']\n",
      "=================\n",
      "['19', 'Kekeringan', '8/31/2013', '', '109.547', '-7.46168', 'Ds panerusan kulon Ds Panerusan wetan Ds gumelem wetan Ds derik Ds berita Ds karang jati Ds Kemrangon Ds Karangsalam Kec. Susukan Kec. Purwareja Klampok Ds gelampang Ds kebanaran Ds kaliwungu Ds somawangi Ds Jalatunda Kec. Mandiraja Ds Merden Kec. Purwanegara Kec. Bawang Ds kebutuh jurang Kec. Pagedongan Ds Bandingan Kec. Rakit Kec. Punggelan Kec Cijaluh Kab. Banjar Negara Prov. Jawa Tengah', 'Nihil', '-Sawah 304 Ha Kering terancam gagal panen -Ladang Jagung 200 Ha', 'Kronologis : -Jumlah desa yang mengalami rawan kekeringan ada 52 desa terletak di 9 kecamatan -Adapun yang sudah di droping air bersih ada 16 desa di 5 kecamatan Upaya : -BPBD melakukan Droping air ke warga yang membutuhkan -Koordinasi dengan dinas terkait']\n",
      "=================\n",
      "['20', 'Kekeringan', '8/15/2013', '', '109.642', '-7.68377', 'Kec. Ayah Kec. Buayan Kec. Rowokele Kec. Sempor Kec. Karanganyar Kec. Adimulyo Kec. Karanggayam Kec. Alian Kec. Kotawinangun Kec. Ponco Warno Kec. Prenbu Kec. Padureso Kab. Kebumen Prov. Jawa Tengah', 'Nihil', 'Nihil', '*Kronologis :Kekeringan disebabkan oleh pola musiman yakni sudah memasuki musim kemarau *Upaya :BPBD melakukan droping air bersih pada awal bulan sepetember mendatang']\n",
      "=================\n",
      "['21', 'Kekeringan', '8/24/2012', '', '114.952', '-3.1724', '\"Kec. Simpang Empat', ' Kab. Banjar', ' Prov. Kalimantan Selatan\"', '2039 KK / 8156 jiwa terdampak', 'Nihil', '- BPBD langsung meninjau lokasi bencana kekeringan. - BPBD melakukan rapat koordinasi untuk menentukan status masa Tanggap Darurat bencana kekeringan melalui pernyataan Bupati. - Pemda setempat membantu warga yang terkena kekeringan dengan mendistribusikan air bersih ke Desa Gunung Balai sebanyak 40.000 Liter/hari. Pemda juga membantu mendistribusikan Tandon air bersih sebanyak 22 buah dan Jerigen-jerigen sebanyak 2039 Buah kepada korban yang terkena dampak kekeringan. - Masa tanggap darurat terhitung mulai tanggal 27 Agustus s/d 9 September 2012.']\n",
      "=================\n",
      "['22', 'Kekeringan', '8/1/2012', '', '113.722', '-7.80896', '\"Kab. Probolinggo', ' Prov. Jawa Timur\"', '104.344 jiwa tersebar di 40 desa dan 12 kecamatan', '', '\"- Musim kemarau yang panjang telah menimbulkan kekeringan terutama di 12 Kecamatan di Kabupaten Probolinggi', 'yang tersebar di 40 Desa dengan total 10.344 jiwa. - Bupati Kabupaten Probolinggo menyatakan Keadaan Darurat Bencana Kekeringan selama 3 bulan terhitung sejak 1 Agustus 2012 sampai dengan 1 November 2012. Kebutuhan mendesak: - 5 unit Tangki air kapasitas 5.500 liter. - 5 unit Tangki air kapasitas 2.200 liter. - 6 paket Alat komunikasi (HT', ' Rake dll) - 15.000 paket Makanan siap saji - 2 paket alat penjernih air\"']\n",
      "=================\n",
      "['23', 'Kekeringan', '6/7/2012', '', '112.96', '-7.83601', '\"Kec. Gempol dan Lumbang', ' Kab. Pasuruan', ' Prov. Jawa Timur\"', '11.444 KK / 46.594 Jiwa', '', '']\n",
      "=================\n"
     ]
    }
   ],
   "source": [
    "import csv,os\n",
    "print(os.getcwd())\n",
    "with open('data-bencana-kekeringan-2012-2013.csv') as csvfile:\n",
    "    my_csv_file = csv.reader(csvfile, delimiter=',',quotechar=\"'\")\n",
    "    for row in my_csv_file:\n",
    "        kolom_tanggal = row[2]\n",
    "        print(row)\n",
    "        print(\"=================\")"
   ]
  },
  {
   "cell_type": "markdown",
   "metadata": {},
   "source": [
    "# 4. Numpy\n",
    "Numpy memiliki kegunaan untuk operasi vektor dan matriks. Fiturnya hampir sama dengan MATLAB dalam mengelola array dan array multidimensi. "
   ]
  },
  {
   "cell_type": "markdown",
   "metadata": {},
   "source": [
    "## 4.1 Numpy Array"
   ]
  },
  {
   "cell_type": "code",
   "execution_count": 185,
   "metadata": {},
   "outputs": [
    {
     "name": "stdout",
     "output_type": "stream",
     "text": [
      "[[1 2 3]\n",
      " [4 5 6]]\n",
      "(2, 3)\n",
      "1 2 4\n"
     ]
    }
   ],
   "source": [
    "import numpy as np\n",
    "\n",
    "# a = np.array([1, 2, 3])   \n",
    "# print(a)\n",
    "# print(type(a))            \n",
    "# print(a.shape)            \n",
    "# print(a[0], a[1], a[2])   \n",
    "# a[0] = 5                  \n",
    "# print(a)                  \n",
    "\n",
    "b = np.array([[1,2,3],[4,5,6]])    \n",
    "print(b)\n",
    "print(b.shape)                     \n",
    "print(b[0, 0], b[0, 1], b[1, 0])   "
   ]
  },
  {
   "cell_type": "markdown",
   "metadata": {},
   "source": [
    "## 4.2 Buat Array"
   ]
  },
  {
   "cell_type": "code",
   "execution_count": 192,
   "metadata": {},
   "outputs": [
    {
     "name": "stdout",
     "output_type": "stream",
     "text": [
      "[[ 0.26221282  0.57987616  0.95434605  0.3257722   0.83019504]\n",
      " [ 0.45890961  0.52703806  0.27686083  0.67888094  0.63999557]\n",
      " [ 0.50594718  0.4562579   0.53511708  0.91867644  0.25179246]\n",
      " [ 0.91859362  0.53019591  0.10061792  0.81734652  0.39063174]\n",
      " [ 0.61901521  0.38241053  0.58769858  0.35556091  0.9004963 ]]\n"
     ]
    }
   ],
   "source": [
    "a = np.zeros((5,4))   \n",
    "print(a)             \n",
    "                      \n",
    "b = np.ones((3,2))    \n",
    "print(b)              \n",
    "\n",
    "c = np.full((5,2), 7)  \n",
    "print(c)               \n",
    "                      \n",
    "d = np.eye(6)        \n",
    "print(d)             \n",
    "                     \n",
    "e = np.random.random((5,5))  \n",
    "print(e)                                             "
   ]
  },
  {
   "cell_type": "markdown",
   "metadata": {},
   "source": [
    "## 4.3 Indexing & Slicing"
   ]
  },
  {
   "cell_type": "code",
   "execution_count": 194,
   "metadata": {},
   "outputs": [
    {
     "name": "stdout",
     "output_type": "stream",
     "text": [
      "[[77  3]\n",
      " [ 6  7]]\n"
     ]
    }
   ],
   "source": [
    "import numpy as np\n",
    "\n",
    "a = np.array([[1,2,3,4], [5,6,7,8], [9,10,11,12]])\n",
    "print(a)\n",
    "b = a[:2, 1:3]\n",
    "print(b)\n",
    "print(a[0, 1])   \n",
    "b[0, 0] = 77 \n",
    "print(b)\n",
    "print(a[0, 1])  "
   ]
  },
  {
   "cell_type": "markdown",
   "metadata": {},
   "source": [
    "## 4.4 Operasi Matematika"
   ]
  },
  {
   "cell_type": "code",
   "execution_count": null,
   "metadata": {},
   "outputs": [],
   "source": [
    "import numpy as np\n",
    "\n",
    "x = np.array([[1,2],[3,4]], dtype=np.float64)\n",
    "y = np.array([[5,6],[7,8]], dtype=np.float64)\n",
    "\n",
    "print(x)\n",
    "print(y)\n",
    "\n",
    "# print(x + y)\n",
    "# print(np.add(x, y))\n",
    "\n",
    "# print(x - y)\n",
    "# print(np.subtract(x, y))\n",
    "\n",
    "# print(x * y)\n",
    "# print(np.multiply(x, y))\n",
    "\n",
    "# print(x / y)\n",
    "# print(np.divide(x, y))\n",
    "\n",
    "print(np.sqrt(x))"
   ]
  },
  {
   "cell_type": "markdown",
   "metadata": {},
   "source": [
    "## 5. Pandas\n",
    "Dengan menggunakan sistem dataframe, kita dapat memuat sebuah file ke dalam tabel virtual ala spreadsheet dengan menggunakan Pandas. Dengan menggunakan Pandas, kita dapat mengolah suatu data dan mengolahnya seperti join, distinct, group by, agregasi, dan teknik seperti pada SQL. Hanya saja dilakukan pada tabel yang dimuat dari file ke RAM. Pandas juga dapat membaca file dari berbagai format seperti .txt, .csv, .tsv, dan lainnya. Anggap saja Pandas adalah spreadsheet namun tidak memiliki GUI dan punya fitur seperti SQL."
   ]
  },
  {
   "cell_type": "code",
   "execution_count": null,
   "metadata": {},
   "outputs": [],
   "source": [
    "import pandas as pd"
   ]
  },
  {
   "cell_type": "markdown",
   "metadata": {},
   "source": [
    "## 5.1 Membaca File CSV"
   ]
  },
  {
   "cell_type": "code",
   "execution_count": null,
   "metadata": {},
   "outputs": [],
   "source": [
    "data_kekeringan = pd.read_csv('data-bencana-kekeringan-2012-2013.csv', delimiter = ',', encoding = \"ISO-8859-1\")"
   ]
  },
  {
   "cell_type": "markdown",
   "metadata": {},
   "source": [
    "## 5.2 Melihat Data"
   ]
  },
  {
   "cell_type": "code",
   "execution_count": null,
   "metadata": {},
   "outputs": [],
   "source": [
    "data_kekeringan"
   ]
  },
  {
   "cell_type": "code",
   "execution_count": null,
   "metadata": {},
   "outputs": [],
   "source": [
    "data_kekeringan.head()"
   ]
  },
  {
   "cell_type": "code",
   "execution_count": null,
   "metadata": {},
   "outputs": [],
   "source": [
    "data_kekeringan.tail()"
   ]
  },
  {
   "cell_type": "code",
   "execution_count": null,
   "metadata": {},
   "outputs": [],
   "source": [
    "data_kekeringan.sample(5)"
   ]
  },
  {
   "cell_type": "markdown",
   "metadata": {},
   "source": [
    "## 5.3 Memilih Beberapa Kolom Saja"
   ]
  },
  {
   "cell_type": "code",
   "execution_count": null,
   "metadata": {},
   "outputs": [],
   "source": [
    "data_kekeringan.columns"
   ]
  },
  {
   "cell_type": "code",
   "execution_count": null,
   "metadata": {},
   "outputs": [],
   "source": [
    "data_kekeringan[['Bencana ','Lokasi ']]"
   ]
  },
  {
   "cell_type": "code",
   "execution_count": null,
   "metadata": {},
   "outputs": [],
   "source": [
    "data_kekeringan['Lokasi ']"
   ]
  },
  {
   "cell_type": "code",
   "execution_count": null,
   "metadata": {},
   "outputs": [],
   "source": [
    "data_kekeringan['Lokasi '][2]"
   ]
  },
  {
   "cell_type": "code",
   "execution_count": null,
   "metadata": {},
   "outputs": [],
   "source": [
    "data_kekeringan[data_kekeringan['Tanggal ']=='9/16/2013']\n",
    "data_kekeringan.loc[(data_kekeringan['Tanggal ']=='9/16/2013') & (data_kekeringan['Korban ']=='Pendataan')]"
   ]
  },
  {
   "cell_type": "code",
   "execution_count": null,
   "metadata": {},
   "outputs": [],
   "source": [
    "data_kekeringan['Tanggal '] = pd.to_datetime(data_kekeringan['Tanggal '])"
   ]
  },
  {
   "cell_type": "markdown",
   "metadata": {},
   "source": [
    "## 5.4 Contoh Data Lain yang memiliki Kolom Numerik"
   ]
  },
  {
   "cell_type": "code",
   "execution_count": null,
   "metadata": {},
   "outputs": [],
   "source": [
    "data_pangan = pd.read_csv('jumlah-usaha-pertanian-per-provinsi-per-usaha-2003-2013.csv', delimiter = ',', encoding = \"utf-8\")"
   ]
  },
  {
   "cell_type": "code",
   "execution_count": null,
   "metadata": {},
   "outputs": [],
   "source": [
    "data_pangan"
   ]
  },
  {
   "cell_type": "code",
   "execution_count": null,
   "metadata": {},
   "outputs": [],
   "source": [
    "data_pangan.count()"
   ]
  },
  {
   "cell_type": "code",
   "execution_count": null,
   "metadata": {},
   "outputs": [],
   "source": [
    "data_pangan.columns"
   ]
  },
  {
   "cell_type": "markdown",
   "metadata": {},
   "source": [
    "## 5.5 Statistik Sederhana"
   ]
  },
  {
   "cell_type": "code",
   "execution_count": null,
   "metadata": {},
   "outputs": [],
   "source": [
    "data_pangan.kode_provinsi.count()"
   ]
  },
  {
   "cell_type": "code",
   "execution_count": null,
   "metadata": {},
   "outputs": [],
   "source": [
    "s = data_pangan.jumlah.sum()\n",
    "mi = data_pangan.jumlah.min()\n",
    "ma = data_pangan.jumlah.max()\n",
    "\n",
    "print(s,mi,ma)"
   ]
  },
  {
   "cell_type": "code",
   "execution_count": null,
   "metadata": {},
   "outputs": [],
   "source": [
    "me = data_pangan.mean()\n",
    "md = data_pangan.median()\n",
    "\n",
    "print(me)"
   ]
  },
  {
   "cell_type": "code",
   "execution_count": null,
   "metadata": {},
   "outputs": [],
   "source": [
    "print(md)"
   ]
  },
  {
   "cell_type": "markdown",
   "metadata": {},
   "source": [
    "## 5.6 Grouping \n",
    "\n",
    "http://pbpython.com/images/groupby-example.png"
   ]
  },
  {
   "cell_type": "code",
   "execution_count": null,
   "metadata": {},
   "outputs": [],
   "source": [
    "data_pangan.groupby('tahun').mean()"
   ]
  },
  {
   "cell_type": "code",
   "execution_count": null,
   "metadata": {},
   "outputs": [],
   "source": [
    "data_pangan.groupby('nama_provinsi').mean()"
   ]
  },
  {
   "cell_type": "code",
   "execution_count": null,
   "metadata": {},
   "outputs": [],
   "source": [
    "data_pangan.groupby(('bentuk_usaha')).mean()"
   ]
  },
  {
   "cell_type": "markdown",
   "metadata": {},
   "source": [
    "## 5.7 Visualisasi Sederhana\n",
    "Panda menyediakan fungsi untuk melakukan visualisasi sederhana, namun jika menginginkan yang lebih lengkap, bisa melihat di library matplotlib"
   ]
  },
  {
   "cell_type": "code",
   "execution_count": null,
   "metadata": {},
   "outputs": [],
   "source": [
    "ax = data_pangan.groupby(('nama_provinsi','bentuk_usaha')).mean()['jumlah'][:10]\n",
    "ax = ax.plot(kind='line', title =\"Rata-Rata Berdasarkan Tahun\", figsize=(20,20), legend=True, fontsize=12)\n",
    "ax.set_xlabel(\"Tahun\", fontsize=12)\n",
    "ax.set_ylabel(\"Jumlah\", fontsize=12)"
   ]
  },
  {
   "cell_type": "markdown",
   "metadata": {},
   "source": [
    "## Projects\n",
    "\n",
    "Temukan data yang menurut kalian menarik pada http://data.go.id . Buat analisa data yang berisi:\n",
    "1. Deskripsi Data\n",
    "2. Statistik tentang data\n",
    "3. Visualisasi sederhana\n",
    "4. Narasi analisis\n",
    "\n",
    "Buat dalam sebuah Notebook dengan judul Analisa Data X, dimana X adalah Deskripsi Data yang dianalisa. Submit link menuju notebooknya di elisa."
   ]
  },
  {
   "cell_type": "code",
   "execution_count": null,
   "metadata": {},
   "outputs": [],
   "source": []
  }
 ],
 "metadata": {
  "kernelspec": {
   "display_name": "Python 3",
   "language": "python",
   "name": "python3"
  },
  "language_info": {
   "codemirror_mode": {
    "name": "ipython",
    "version": 3
   },
   "file_extension": ".py",
   "mimetype": "text/x-python",
   "name": "python",
   "nbconvert_exporter": "python",
   "pygments_lexer": "ipython3",
   "version": "3.6.0"
  }
 },
 "nbformat": 4,
 "nbformat_minor": 2
}
