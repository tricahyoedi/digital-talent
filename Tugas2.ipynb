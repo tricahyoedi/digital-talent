{
 "cells": [
  {
   "cell_type": "markdown",
   "metadata": {},
   "source": [
    "# LATIHAN 2 - Tugas List Nilai\n",
    "Diberikan sekumpulan Nilai Random antara 0 sampai dengan 100 sebanyak 250 nilai. Buatlah program untuk melakukan hal berikut:\n",
    "\n",
    "- Tampilkan Angka Ganjil dari ke 250 nilai tersebut\n",
    "- Tampilkan berapa banyak yang mendapatkan nilai lebih dari 70\n",
    "- Tampilkan standar deviasi dari sekumpulan nilai tersebut\n",
    "- Tampilkan nilai maksimum dan minimum\n",
    "- Tampilkan modus dari sekumpulan nilai tersebut"
   ]
  },
  {
   "cell_type": "code",
   "execution_count": 1,
   "metadata": {},
   "outputs": [
    {
     "name": "stdout",
     "output_type": "stream",
     "text": [
      "[69, 9, 71, 77, 50, 56, 74, 74, 97, 95, 65, 82, 46, 30, 8, 3, 39, 9, 62, 47, 99, 18, 76, 11, 41, 10, 45, 30, 76, 59, 50, 76, 41, 79, 35, 23, 64, 75, 14, 22, 16, 47, 7, 99, 49, 51, 78, 75, 2, 54, 31, 92, 34, 70, 61, 69, 37, 40, 88, 61, 18, 10, 87, 35, 82, 67, 61, 40, 36, 68, 11, 76, 90, 9, 85, 44, 90, 71, 93, 3, 31, 67, 4, 52, 8, 50, 54, 96, 85, 62, 40, 72, 96, 19, 55, 83, 52, 31, 11, 41, 68, 16, 98, 86, 81, 42, 10, 65, 77, 56, 24, 70, 70, 60, 25, 84, 2, 6, 99, 98, 83, 29, 22, 4, 21, 62, 15, 72, 63, 19, 3, 44, 45, 21, 83, 75, 41, 15, 53, 17, 31, 63, 15, 28, 35, 56, 65, 43, 60, 10, 29, 77, 50, 43, 74, 27, 31, 55, 54, 50, 33, 73, 14, 93, 77, 40, 91, 63, 27, 6, 80, 20, 35, 36, 27, 98, 8, 37, 19, 39, 89, 5, 83, 47, 32, 61, 88, 30, 52, 94, 99, 35, 58, 83, 89, 9, 74, 4, 47, 12, 50, 93, 45, 89, 36, 47, 45, 22, 39, 41, 13, 20, 8, 95, 85, 40, 88, 74, 63, 52, 58, 23, 94, 92, 73, 26, 27, 48, 66, 68, 17, 19, 34, 43, 35, 75, 19, 9, 59, 78, 27, 76, 62, 83, 26, 97, 83, 5, 70, 97]\n"
     ]
    }
   ],
   "source": [
    "import random\n",
    "\n",
    "nilaiTugas = []\n",
    "for i in range(250):\n",
    "    nilaiTugas.append(random.randrange(1,100,1))\n",
    "\n",
    "print (nilaiTugas)\n",
    "\n",
    "# Tampilkan:\n",
    "\n",
    "# ganjil\n",
    "# nilai > 70\n",
    "# standar deviasi\n",
    "# maksimum\n",
    "# minimum\n",
    "# modus\n"
   ]
  },
  {
   "cell_type": "code",
   "execution_count": 8,
   "metadata": {},
   "outputs": [
    {
     "name": "stdout",
     "output_type": "stream",
     "text": [
      "69, 9, 71, 77, 97, 95, 65, 3, 39, 9, 47, 99, 11, 41, 45, 59, 41, 79, 35, 23, 75, 47, 7, 99, 49, 51, 75, 31, 61, 69, 37, 61, 87, 35, 67, 61, 11, 9, 85, 71, 93, 3, 31, 67, 85, 19, 55, 83, 31, 11, 41, 81, 65, 77, 25, 99, 83, 29, 21, 15, 63, 19, 3, 45, 21, 83, 75, 41, 15, 53, 17, 31, 63, 15, 35, 65, 43, 29, 77, 43, 27, 31, 55, 33, 73, 93, 77, 91, 63, 27, 35, 27, 37, 19, 39, 89, 5, 83, 47, 61, 99, 35, 83, 89, 9, 47, 93, 45, 89, 47, 45, 39, 41, 13, 95, 85, 63, 23, 73, 27, 17, 19, 43, 35, 75, 19, 9, 59, 27, 83, 97, 83, 5, 97, "
     ]
    }
   ],
   "source": [
    "# Ganjil\n",
    "\n",
    "for i in nilaiTugas:\n",
    "    if (i%2)!=0:\n",
    "        print (i,end= ', ')"
   ]
  },
  {
   "cell_type": "code",
   "execution_count": 9,
   "metadata": {},
   "outputs": [
    {
     "name": "stdout",
     "output_type": "stream",
     "text": [
      "71, 77, 74, 74, 97, 95, 82, 99, 76, 76, 76, 79, 75, 99, 78, 75, 92, 88, 87, 82, 76, 90, 85, 90, 71, 93, 96, 85, 72, 96, 83, 98, 86, 81, 77, 84, 99, 98, 83, 72, 83, 75, 77, 74, 73, 93, 77, 91, 80, 98, 89, 83, 88, 94, 99, 83, 89, 74, 93, 89, 95, 85, 88, 74, 94, 92, 73, 75, 78, 76, 83, 97, 83, 97, "
     ]
    }
   ],
   "source": [
    "# nilai > 70\n",
    "\n",
    "for i in nilaiTugas:\n",
    "    if i>70:\n",
    "        print (i,end= ', ')"
   ]
  },
  {
   "cell_type": "code",
   "execution_count": 21,
   "metadata": {},
   "outputs": [
    {
     "name": "stdout",
     "output_type": "stream",
     "text": [
      "Nilai rata-rata data = 50.456\n",
      "Nilai standar deviasi = 28.117895796093986\n"
     ]
    }
   ],
   "source": [
    "# menghitung standar deviasi\n",
    "\n",
    "# mean\n",
    "populasi = len(nilaiTugas)\n",
    "jumlahTotal = 0\n",
    "for i in nilaiTugas:\n",
    "    jumlahTotal = jumlahTotal + i\n",
    "mean = jumlahTotal/populasi\n",
    "print ('Nilai rata-rata data =',mean)\n",
    "\n",
    "# SD\n",
    "\n",
    "x= 0\n",
    "\n",
    "for i in nilaiTugas:\n",
    "    x = x + (i - mean)**2\n",
    "\n",
    "SD = (x/populasi)**0.5\n",
    "print ('Nilai standar deviasi =',SD)\n",
    "\n"
   ]
  },
  {
   "cell_type": "code",
   "execution_count": 22,
   "metadata": {},
   "outputs": [
    {
     "name": "stdout",
     "output_type": "stream",
     "text": [
      "99\n"
     ]
    }
   ],
   "source": [
    "# maksimum\n",
    "\n",
    "print(max(nilaiTugas))"
   ]
  },
  {
   "cell_type": "code",
   "execution_count": 23,
   "metadata": {},
   "outputs": [
    {
     "name": "stdout",
     "output_type": "stream",
     "text": [
      "2\n"
     ]
    }
   ],
   "source": [
    "# minimum\n",
    "\n",
    "print(min(nilaiTugas))"
   ]
  },
  {
   "cell_type": "code",
   "execution_count": 27,
   "metadata": {},
   "outputs": [
    {
     "name": "stdout",
     "output_type": "stream",
     "text": [
      "83\n"
     ]
    }
   ],
   "source": [
    "# modus\n",
    "\n",
    "print (max(set(nilaiTugas), key=nilaiTugas.count))"
   ]
  },
  {
   "cell_type": "code",
   "execution_count": 72,
   "metadata": {},
   "outputs": [
    {
     "name": "stdout",
     "output_type": "stream",
     "text": [
      "[83]\n"
     ]
    }
   ],
   "source": [
    "# modus (cara 2)\n",
    "\n",
    "angkaDict = {}\n",
    "\n",
    "for i in nilaiTugas:\n",
    "    if i in angkaDict:\n",
    "         angkaDict[i] = angkaDict[i]+1\n",
    "    else:\n",
    "         angkaDict[i] = 1 \n",
    "           \n",
    "M = max([x[1] for x in angkaDict.items() ])\n",
    "\n",
    "print ([x[0] for x in angkaDict.items() if x[1]==M])"
   ]
  },
  {
   "cell_type": "code",
   "execution_count": 63,
   "metadata": {},
   "outputs": [
    {
     "name": "stdout",
     "output_type": "stream",
     "text": [
      "50.456\n",
      "28.11789579609399\n",
      "83\n"
     ]
    }
   ],
   "source": [
    "# check answer\n",
    "import statistics\n",
    "print (statistics.mean(nilaiTugas))\n",
    "print (statistics.pstdev(nilaiTugas))\n",
    "print (statistics.mode(nilaiTugas))"
   ]
  },
  {
   "cell_type": "markdown",
   "metadata": {},
   "source": [
    "# Latihan 3 - Word Count\n",
    "Diberikan sebuah paragraf, hitunglah banyak kemunculan masing-masing kata. Contoh : \"Presiden pagi ini melakukan kunjungan ke Jogja\"\n",
    "\n",
    "- presiden: 1\n",
    "- pagi: 1\n",
    "- ini: 1\n",
    "- melakukan: 1\n",
    "- kunjungan: 1\n",
    "- ke: 1\n",
    "- jogja: 1\n",
    "\n",
    "hints: Gunakan Dictionary dalam menyimpan word count. Gunakan kata sebagai key, dan jumlah kemunculan sebagai value"
   ]
  },
  {
   "cell_type": "code",
   "execution_count": 35,
   "metadata": {
    "scrolled": true
   },
   "outputs": [
    {
     "name": "stdout",
     "output_type": "stream",
     "text": [
      "['Barcelona', 'berhasil', 'merebut', 'posisi', 'puncak', 'klasemen', 'La', 'Liga', 'Spanyol', 'seusai', 'menang', '4', '2', 'atas', 'Sevilla', 'pada', 'pertandingan', 'pekan', 'kesembilan', 'di', 'Stadion', 'Camp', 'Nou,', 'Sabtu', '20', '10', '2018', 'atau', 'Minggu', 'dini', 'hari', 'WIB.', 'Barcelona', 'membuka', 'keunggulan', 'pada', 'menit', 'ke', '2', 'melalui', 'gol', 'yang', 'dicetak', 'oleh', 'Philippe', 'Coutinho.', 'Lionel', 'Messi', 'menggandakan', 'keunggulan', 'Barcelona,', '10', 'menit', 'berselang.', 'Namun,', 'nahas', 'bagi', 'Barcelona,', 'karena', 'Messi', 'harus', 'ditarik', 'keluar', 'pada', 'menit', 'ke', '26', 'setelah', 'mengalami', 'cedera.', 'Tanpa', 'Messi,', 'skor', '2', '0', 'bertahan', 'hingga', 'babak', 'pertama', 'berakhir.']\n"
     ]
    }
   ],
   "source": [
    "paragraf = \"Barcelona berhasil merebut posisi puncak klasemen La Liga Spanyol seusai menang 4-2 atas Sevilla pada pertandingan pekan kesembilan di Stadion Camp Nou, Sabtu (20/10/2018) atau Minggu dini hari WIB. Barcelona membuka keunggulan pada menit ke-2 melalui gol yang dicetak oleh Philippe Coutinho. Lionel Messi menggandakan keunggulan Barcelona, 10 menit berselang.  Namun, nahas bagi Barcelona, karena Messi harus ditarik keluar pada menit ke-26 setelah mengalami cedera. Tanpa Messi, skor 2-0 bertahan hingga babak pertama berakhir.\"\n",
    "paragraf = paragraf.replace(\"/\",\" \")\n",
    "paragraf = paragraf.replace(\"(\",\" \")\n",
    "paragraf = paragraf.replace(\")\",\" \")\n",
    "paragraf = paragraf.replace(\"-\",\" \")\n",
    "print(paragraf.split())"
   ]
  },
  {
   "cell_type": "code",
   "execution_count": 55,
   "metadata": {},
   "outputs": [
    {
     "name": "stdout",
     "output_type": "stream",
     "text": [
      "{'Barcelona': 2, 'berhasil': 1, 'merebut': 1, 'posisi': 1, 'puncak': 1, 'klasemen': 1, 'La': 1, 'Liga': 1, 'Spanyol': 1, 'seusai': 1, 'menang': 1, '4': 1, '2': 3, 'atas': 1, 'Sevilla': 1, 'pada': 3, 'pertandingan': 1, 'pekan': 1, 'kesembilan': 1, 'di': 1, 'Stadion': 1, 'Camp': 1, 'Nou,': 1, 'Sabtu': 1, '20': 1, '10': 2, '2018': 1, 'atau': 1, 'Minggu': 1, 'dini': 1, 'hari': 1, 'WIB.': 1, 'membuka': 1, 'keunggulan': 2, 'menit': 3, 'ke': 2, 'melalui': 1, 'gol': 1, 'yang': 1, 'dicetak': 1, 'oleh': 1, 'Philippe': 1, 'Coutinho.': 1, 'Lionel': 1, 'Messi': 2, 'menggandakan': 1, 'Barcelona,': 2, 'berselang.': 1, 'Namun,': 1, 'nahas': 1, 'bagi': 1, 'karena': 1, 'harus': 1, 'ditarik': 1, 'keluar': 1, '26': 1, 'setelah': 1, 'mengalami': 1, 'cedera.': 1, 'Tanpa': 1, 'Messi,': 1, 'skor': 1, '0': 1, 'bertahan': 1, 'hingga': 1, 'babak': 1, 'pertama': 1, 'berakhir.': 1}\n"
     ]
    }
   ],
   "source": [
    "kata = paragraf.split()\n",
    " \n",
    "kamus = {}\n",
    "for i in kata:\n",
    "    if i in kamus:\n",
    "         kamus[i] = kamus[i]+1\n",
    "    else:\n",
    "         kamus[i] = 1  \n",
    "print (kamus)\n",
    "            "
   ]
  },
  {
   "cell_type": "code",
   "execution_count": null,
   "metadata": {},
   "outputs": [],
   "source": []
  },
  {
   "cell_type": "code",
   "execution_count": null,
   "metadata": {},
   "outputs": [],
   "source": []
  }
 ],
 "metadata": {
  "kernelspec": {
   "display_name": "Python 3",
   "language": "python",
   "name": "python3"
  },
  "language_info": {
   "codemirror_mode": {
    "name": "ipython",
    "version": 3
   },
   "file_extension": ".py",
   "mimetype": "text/x-python",
   "name": "python",
   "nbconvert_exporter": "python",
   "pygments_lexer": "ipython3",
   "version": "3.7.0"
  }
 },
 "nbformat": 4,
 "nbformat_minor": 2
}
