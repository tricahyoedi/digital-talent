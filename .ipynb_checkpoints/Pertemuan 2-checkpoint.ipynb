{
 "cells": [
  {
   "cell_type": "code",
   "execution_count": 2,
   "metadata": {},
   "outputs": [
    {
     "name": "stdout",
     "output_type": "stream",
     "text": [
      "0\n",
      "1\n",
      "2\n",
      "3\n",
      "4\n",
      "5\n",
      "6\n",
      "7\n",
      "8\n",
      "9\n"
     ]
    }
   ],
   "source": [
    "for i in range (10):\n",
    "    print (i)\n",
    "    "
   ]
  },
  {
   "cell_type": "code",
   "execution_count": 3,
   "metadata": {},
   "outputs": [
    {
     "name": "stdout",
     "output_type": "stream",
     "text": [
      "3\n",
      "4\n",
      "5\n",
      "6\n",
      "7\n",
      "8\n",
      "9\n"
     ]
    }
   ],
   "source": [
    "for i in range (3,10):\n",
    "    print (i)"
   ]
  },
  {
   "cell_type": "code",
   "execution_count": 20,
   "metadata": {},
   "outputs": [
    {
     "name": "stdout",
     "output_type": "stream",
     "text": [
      "40\n",
      "[30, 40, 50, 60, 70]\n"
     ]
    }
   ],
   "source": [
    "nilai = [30,40,50,60,70]\n",
    "print (nilai[-4])\n",
    "print (nilai[:6])"
   ]
  },
  {
   "cell_type": "code",
   "execution_count": 19,
   "metadata": {},
   "outputs": [
    {
     "name": "stdout",
     "output_type": "stream",
     "text": [
      "[[30, 40, 50, 60, 70], [30, 40, 50, 60, 70], [30, 40, 50, 60, 70]]\n"
     ]
    }
   ],
   "source": [
    "matrik = [[30,40,50,60,70],[30,40,50,60,70],[30,40,50,60,70]]\n",
    "print (matrik)"
   ]
  },
  {
   "cell_type": "code",
   "execution_count": 21,
   "metadata": {},
   "outputs": [
    {
     "name": "stdout",
     "output_type": "stream",
     "text": [
      "[30, 40, 50, 60, 70, [30, 40, 50, 60, 70]]\n"
     ]
    }
   ],
   "source": [
    "#menambah elemen ke dalam list\n",
    "\n",
    "nilai.append(nilai[0:6])\n",
    "print (nilai)"
   ]
  },
  {
   "cell_type": "code",
   "execution_count": 22,
   "metadata": {},
   "outputs": [
    {
     "name": "stdout",
     "output_type": "stream",
     "text": [
      "[30, 40, 50, 60, 70, [30, 40, 50, 60, 70]]\n"
     ]
    }
   ],
   "source": [
    "print (nilai)"
   ]
  },
  {
   "cell_type": "code",
   "execution_count": 29,
   "metadata": {},
   "outputs": [
    {
     "name": "stdout",
     "output_type": "stream",
     "text": [
      "250\n",
      "5\n",
      "50.0\n",
      "250\n"
     ]
    }
   ],
   "source": [
    "nilai = [30,40,50,60,70]\n",
    "total = 0\n",
    "\n",
    "for n in nilai:\n",
    "    total = total + n\n",
    "    \n",
    "rata = sum(nilai)/len(nilai)\n",
    "\n",
    "print (sum(nilai))\n",
    "print (len(nilai))\n",
    "print(rata)\n",
    "print(total)"
   ]
  },
  {
   "cell_type": "code",
   "execution_count": 27,
   "metadata": {},
   "outputs": [],
   "source": [
    "a = 25\n",
    "c = 0\n"
   ]
  },
  {
   "cell_type": "code",
   "execution_count": 46,
   "metadata": {},
   "outputs": [
    {
     "name": "stdout",
     "output_type": "stream",
     "text": [
      "\n",
      "list kita: [20, 30, 40, 50, 60, 70, 80, 90]\n",
      "\n",
      "mean kita: 55.0\n",
      "\n",
      "jumlah member list: 8\n",
      "60\n",
      "70\n",
      "80\n",
      "90\n",
      "60\n",
      "70\n",
      "80\n",
      "90\n"
     ]
    }
   ],
   "source": [
    "nilai = [20,30,40,50,60,70,80,90]\n",
    "rata = sum(nilai)/len(nilai)\n",
    "print ('\\nlist kita:',nilai)\n",
    "print ('\\nmean kita:',rata)\n",
    "print ('\\njumlah member list:',len(nilai))\n",
    "\n",
    "for i in range (0,(len(nilai))):\n",
    "    if nilai[i]>=rata:\n",
    "        print (nilai[i])\n",
    "   # else:\n",
    "    #    print (nilai[i],'lebih kecil dari mean')\n",
    "        \n",
    "for angka in nilai:\n",
    "    if angka >= rata:\n",
    "        print (angka)\n",
    "    \n",
    "    \n"
   ]
  },
  {
   "cell_type": "markdown",
   "metadata": {},
   "source": [
    "# Tuple\n"
   ]
  },
  {
   "cell_type": "code",
   "execution_count": 65,
   "metadata": {},
   "outputs": [
    {
     "name": "stdout",
     "output_type": "stream",
     "text": [
      "12\n",
      "('Januari', 'Februari', 'Maret', 'April', 'Mei', 'Juni', 'Juli', 'Agustus', 'September', 'Oktober', 'November', 'Desember')\n"
     ]
    }
   ],
   "source": [
    "bulan = ('Januari','Februari','Maret','April','Mei','Juni','Juli','Agustus','September','Oktober','November','Desember')\n",
    "print (len(bulan))\n",
    "print (bulan[0:(len(bulan))])"
   ]
  },
  {
   "cell_type": "markdown",
   "metadata": {},
   "source": [
    "# Dictionary"
   ]
  },
  {
   "cell_type": "code",
   "execution_count": 90,
   "metadata": {},
   "outputs": [
    {
     "name": "stdout",
     "output_type": "stream",
     "text": [
      "[{'nama': 'Budi', 'umur': 7, 'status': 'L'}, {'nama': 'Rini', 'umur': 5, 'status': 'P'}]\n",
      "nama Budi\n",
      "umur 7\n",
      "status L\n"
     ]
    }
   ],
   "source": [
    "siswa1 = {'nama':'Budi','umur':7,'status':'L'}\n",
    "siswa2 = {'nama':'Rini','umur':5,'status':'P'}\n",
    "siswa3 = {'nama':'Edi','umur':2,'status':'L'}\n",
    "\n",
    "siswa3['score'] = nilai\n",
    "\n",
    "kelas = []\n",
    "kelas.append(siswa1)\n",
    "kelas.append(siswa2)\n",
    "len(kelas)\n",
    "\n",
    "\n",
    "print (kelas)\n",
    "\n",
    "for k, v in siswa1.items():\n",
    "    print (k,v)"
   ]
  },
  {
   "cell_type": "markdown",
   "metadata": {},
   "source": [
    "# String"
   ]
  },
  {
   "cell_type": "code",
   "execution_count": 76,
   "metadata": {},
   "outputs": [
    {
     "name": "stdout",
     "output_type": "stream",
     "text": [
      "Tutoria Bahasa Pemrograman Phyton\n",
      "['Tutoria', 'Bahasa', 'Pemrograman', 'Phyton']\n",
      "T\n",
      "B\n",
      "P\n",
      "P\n"
     ]
    }
   ],
   "source": [
    "nama = 'Tutoria Bahasa Pemrograman Phyton'\n",
    "print(nama)\n",
    "\n",
    "words = nama.split()\n",
    "print (words)\n",
    "\n",
    "for a in words:\n",
    "    print (a[0])"
   ]
  },
  {
   "cell_type": "code",
   "execution_count": 79,
   "metadata": {},
   "outputs": [
    {
     "name": "stdout",
     "output_type": "stream",
     "text": [
      "c,h,p,d,s,k,"
     ]
    }
   ],
   "source": [
    "kalimat = 'cetak huruf pertama dari setiap kata'\n",
    "kata = kalimat.split()\n",
    "\n",
    "for member in kata:\n",
    "    print (member[0],end=',')"
   ]
  },
  {
   "cell_type": "code",
   "execution_count": 84,
   "metadata": {},
   "outputs": [
    {
     "name": "stdout",
     "output_type": "stream",
     "text": [
      "minggu\n",
      "istimewa\n",
      "muka\n",
      "kuda\n"
     ]
    }
   ],
   "source": [
    "paragraf = 'pada hari minggu kuturut ayah ke kota. naik delman istimewa kududuk di muka. duduk di muka pak kusir yang sedang bekerja. bekerja mengendarai kuda supaya baik jalannya'\n",
    "kalimats = paragraf.split('.')\n",
    "for kalimat in kalimats:\n",
    "    kata = kalimat.split()\n",
    "    print (kata[2])\n"
   ]
  },
  {
   "cell_type": "code",
   "execution_count": null,
   "metadata": {},
   "outputs": [],
   "source": []
  }
 ],
 "metadata": {
  "kernelspec": {
   "display_name": "Python 3",
   "language": "python",
   "name": "python3"
  },
  "language_info": {
   "codemirror_mode": {
    "name": "ipython",
    "version": 3
   },
   "file_extension": ".py",
   "mimetype": "text/x-python",
   "name": "python",
   "nbconvert_exporter": "python",
   "pygments_lexer": "ipython3",
   "version": "3.7.0"
  }
 },
 "nbformat": 4,
 "nbformat_minor": 2
}
