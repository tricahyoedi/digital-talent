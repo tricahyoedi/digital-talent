{
 "cells": [
  {
   "cell_type": "code",
   "execution_count": 1,
   "metadata": {},
   "outputs": [
    {
     "name": "stdout",
     "output_type": "stream",
     "text": [
      "hello\n"
     ]
    }
   ],
   "source": [
    "print ('hello')"
   ]
  },
  {
   "cell_type": "code",
   "execution_count": 3,
   "metadata": {},
   "outputs": [
    {
     "name": "stdout",
     "output_type": "stream",
     "text": [
      "x > y  is False\n",
      "x < y  is True\n",
      "x == y is False\n",
      "x != y is True\n",
      "x >= y is False\n",
      "x <= y is True\n"
     ]
    }
   ],
   "source": [
    "x = 10\n",
    "y = 12\n",
    "\n",
    "print('x > y  is',x>y)\n",
    "\n",
    "print('x < y  is',x<y)\n",
    "\n",
    "print('x == y is',x==y)\n",
    "\n",
    "print('x != y is',x!=y)\n",
    "\n",
    "print('x >= y is',x>=y)\n",
    "\n",
    "print('x <= y is',x<=y)"
   ]
  },
  {
   "cell_type": "code",
   "execution_count": 2,
   "metadata": {},
   "outputs": [
    {
     "name": "stdout",
     "output_type": "stream",
     "text": [
      "x and y is False\n",
      "x or y is True\n",
      "not x is False\n"
     ]
    }
   ],
   "source": [
    "x = 5 == 5\n",
    "y = 1 > 2\n",
    "\n",
    "\n",
    "print('x and y is',x and y)\n",
    "\n",
    "print('x or y is',x or y)\n",
    "\n",
    "print('not x is',not x)"
   ]
  },
  {
   "cell_type": "code",
   "execution_count": 6,
   "metadata": {},
   "outputs": [
    {
     "name": "stdout",
     "output_type": "stream",
     "text": [
      "Maap anda belom berhasil\n",
      "Program Selesai\n"
     ]
    }
   ],
   "source": [
    "nilai = 80 # Coba dirubah menjadi 80\n",
    "if nilai>90:\n",
    "    print(\"Lulus\")\n",
    "    print(\"Selamat\")\n",
    "else: \n",
    "    print (\"Maap anda belom berhasil\")\n",
    "    \n",
    "print(\"Program Selesai\")"
   ]
  },
  {
   "cell_type": "code",
   "execution_count": 10,
   "metadata": {},
   "outputs": [
    {
     "name": "stdout",
     "output_type": "stream",
     "text": [
      "Maap anda belom berhasil\n",
      "Program Selesai\n"
     ]
    }
   ],
   "source": [
    "nilai = 8 # Coba dirubah menjadi 80\n",
    "if nilai>90:\n",
    "    print(\"Lulus\")\n",
    "    print(\"Selamat\")\n",
    "elif nilai>80: \n",
    "    print (\"waiting list\")\n",
    "else:\n",
    "    print ('Maap anda belom berhasil')\n",
    "    \n",
    "print(\"Program Selesai\")"
   ]
  },
  {
   "cell_type": "code",
   "execution_count": 12,
   "metadata": {},
   "outputs": [
    {
     "name": "stdout",
     "output_type": "stream",
     "text": [
      "Maaf Anda Belum Berhasil\n",
      "Program Selesai\n"
     ]
    }
   ],
   "source": [
    "nilai = 90\n",
    "umur = 33\n",
    "\n",
    "if nilai>90:\n",
    "    if umur > 17:\n",
    "        print(\"Selamat umur anda lebih dari 17\")\n",
    "    else:\n",
    "        print(\"Maaf, Anda kurang dari 17\")\n",
    "else:\n",
    "    print(\"Maaf Anda Belum Berhasil\")\n",
    "    \n",
    "print(\"Program Selesai\")"
   ]
  },
  {
   "cell_type": "code",
   "execution_count": 3,
   "metadata": {},
   "outputs": [
    {
     "name": "stdout",
     "output_type": "stream",
     "text": [
      "Normal (healthy weight)\n",
      "BMI anda : 21.453287197231838\n"
     ]
    }
   ],
   "source": [
    "beratBadan = 62\n",
    "tinggiBadanCm = 170\n",
    "tinggiBadanM = tinggiBadanCm/100\n",
    "\n",
    "BMI = beratBadan / (tinggiBadanM*tinggiBadanM)\n",
    "\n",
    "if BMI < 15:\n",
    "    print ('Very severely underweigh')\n",
    "elif BMI < 16:\n",
    "    print ('Severely underweight')\n",
    "elif BMI < 18.5:\n",
    "    print ('Underweight')\n",
    "elif BMI < 25:\n",
    "    print ('Normal (healthy weight)')\n",
    "elif BMI < 30:\n",
    "    print ('Overweight')\n",
    "elif BMI < 35:\n",
    "    print ('Moderately obese')\n",
    "elif BMI < 40:\n",
    "    print ('Severely obese')\n",
    "else:\n",
    "    print ('Very severely obese')\n",
    "    \n",
    "print ('BMI anda :', BMI)"
   ]
  },
  {
   "cell_type": "markdown",
   "metadata": {},
   "source": [
    "1. Buat akun Github\n",
    "2. Buat repository dengan nama : digital-talent\n",
    "3. tugas BMI.ipynb\n",
    "4. commit ke github\n",
    "\n",
    "submit link github reponya di elisa\n"
   ]
  }
 ],
 "metadata": {
  "kernelspec": {
   "display_name": "Python 3",
   "language": "python",
   "name": "python3"
  },
  "language_info": {
   "codemirror_mode": {
    "name": "ipython",
    "version": 3
   },
   "file_extension": ".py",
   "mimetype": "text/x-python",
   "name": "python",
   "nbconvert_exporter": "python",
   "pygments_lexer": "ipython3",
   "version": "3.7.0"
  }
 },
 "nbformat": 4,
 "nbformat_minor": 2
}
