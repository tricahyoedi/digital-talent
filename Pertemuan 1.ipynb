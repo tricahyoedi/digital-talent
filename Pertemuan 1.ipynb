{
 "cells": [
  {
   "cell_type": "markdown",
   "metadata": {},
   "source": [
    "# 1. syntax dasar\n",
    "ini adalah contoh catatan"
   ]
  },
  {
   "cell_type": "code",
   "execution_count": 1,
   "metadata": {},
   "outputs": [
    {
     "name": "stdout",
     "output_type": "stream",
     "text": [
      "hello world\n"
     ]
    }
   ],
   "source": [
    "print('hello world')"
   ]
  },
  {
   "cell_type": "code",
   "execution_count": 3,
   "metadata": {},
   "outputs": [
    {
     "name": "stdout",
     "output_type": "stream",
     "text": [
      "30\n",
      "15625\n"
     ]
    }
   ],
   "source": [
    "a= 5\n",
    "b = 6\n",
    "print (a*b)\n",
    "print (a**b)"
   ]
  },
  {
   "cell_type": "code",
   "execution_count": 5,
   "metadata": {},
   "outputs": [
    {
     "name": "stdout",
     "output_type": "stream",
     "text": [
      "56\n"
     ]
    }
   ],
   "source": [
    "print (7*8)"
   ]
  },
  {
   "cell_type": "markdown",
   "metadata": {},
   "source": [
    "# Variable\n",
    "tempat menyimpan nilai sementara"
   ]
  },
  {
   "cell_type": "code",
   "execution_count": 6,
   "metadata": {},
   "outputs": [
    {
     "name": "stdout",
     "output_type": "stream",
     "text": [
      "Guntur Budi Herwanto\n"
     ]
    }
   ],
   "source": [
    "nama = \"Guntur Budi Herwanto\"\n",
    "print (nama)"
   ]
  },
  {
   "cell_type": "code",
   "execution_count": 7,
   "metadata": {},
   "outputs": [
    {
     "name": "stdout",
     "output_type": "stream",
     "text": [
      "5 3.2 guntur\n"
     ]
    }
   ],
   "source": [
    "a, b, c = 5, 3.2, \"guntur\"\n",
    "print (a, b, c)"
   ]
  },
  {
   "cell_type": "code",
   "execution_count": 8,
   "metadata": {},
   "outputs": [
    {
     "name": "stdout",
     "output_type": "stream",
     "text": [
      "sama sama sama\n"
     ]
    }
   ],
   "source": [
    "x=y=z=\"sama\"\n",
    "print (x,y,z)"
   ]
  },
  {
   "cell_type": "markdown",
   "metadata": {},
   "source": [
    "# Tipe data\n",
    " number\n",
    " strings\n",
    " boolean\n",
    " list\n",
    " tuple\n",
    " set\n",
    " dictionary"
   ]
  },
  {
   "cell_type": "markdown",
   "metadata": {},
   "source": [
    "# numbers\n",
    "- integer\n",
    "- float\n",
    "- boolean\n",
    "- string"
   ]
  },
  {
   "cell_type": "code",
   "execution_count": 11,
   "metadata": {},
   "outputs": [
    {
     "name": "stdout",
     "output_type": "stream",
     "text": [
      "5 mempunyai tipe data <class 'int'>\n",
      "5.0 mempunyai tipe data <class 'float'>\n",
      "False mempunyai tipe data <class 'bool'>\n",
      "True mempunyai tipe data <class 'bool'>\n",
      "ini adalah kata mempunyai tipe data <class 'str'>\n"
     ]
    }
   ],
   "source": [
    "a = 5\n",
    "print (a, 'mempunyai tipe data', type(a))\n",
    "\n",
    "b = 5.0\n",
    "print (b, 'mempunyai tipe data', type (b))\n",
    "\n",
    "c = 5>6\n",
    "print (c, 'mempunyai tipe data', type(c))\n",
    "\n",
    "d = 5<6\n",
    "print (d, 'mempunyai tipe data', type(d))\n",
    "\n",
    "e = 'ini adalah kata'\n",
    "print (e, 'mempunyai tipe data', type(e))"
   ]
  },
  {
   "cell_type": "markdown",
   "metadata": {},
   "source": [
    "# operator\n",
    "- +\n",
    "- -\n",
    "- *\n",
    "- /\n",
    "- %\n",
    "- //\n",
    "- **"
   ]
  },
  {
   "cell_type": "code",
   "execution_count": 14,
   "metadata": {},
   "outputs": [
    {
     "name": "stdout",
     "output_type": "stream",
     "text": [
      "81\n"
     ]
    }
   ],
   "source": [
    "x=5\n",
    "y=4\n",
    "\n",
    "print ((x+y)*(x+y))"
   ]
  },
  {
   "cell_type": "markdown",
   "metadata": {},
   "source": [
    "# Latihan \n",
    "Pada keluaran buku terbaru, Harry Potter harga buku adalah Rp 100.000, tetapi toko buku mendapatkan diskon 40%. Pengiriman biaya Rp 9.000 untuk salinan pertama dan Rp 3.000 untuk setiap salinan tambahan. Berapa total biaya keseluruhan untuk pengiriman buku 60 eksemplar?"
   ]
  },
  {
   "cell_type": "code",
   "execution_count": 19,
   "metadata": {},
   "outputs": [
    {
     "name": "stdout",
     "output_type": "stream",
     "text": [
      "3786000.0\n"
     ]
    }
   ],
   "source": [
    "hargaBuku = 100000\n",
    "diskon = 0.4\n",
    "ongkir1 = 9000\n",
    "ongkir2 = 3000\n",
    "eksemplar = 60\n",
    "\n",
    "jumlahDiskon = hargaBuku*diskon\n",
    "hargaDiskon = hargaBuku-jumlahDiskon\n",
    "totalHargaBuku= hargaDiskon*eksemplar\n",
    "biayaKirim = ongkir1+(ongkir2*(eksemplar-1))\n",
    "biayaTotal = totalHargaBuku+biayaKirim\n",
    "\n",
    "print (biayaTotal)"
   ]
  },
  {
   "cell_type": "markdown",
   "metadata": {},
   "source": [
    "LATIHAN\n",
    "Body Mass Index (BMI) menentukan sebuah keidealan berat badan terhadap tinggi badan. Berikut adalah formula dari BMI : BMI = weight (kg) ÷ height^2 (m^2)\n",
    "Berikut adalah kategorisasi BMI\n",
    "BMI\tKategori BMI\t\n",
    "\n",
    "Kurang dari 15\tVery severely underweight\t\n",
    "Diantara 15 dan 16\tSeverely underweight\t\n",
    "Diantara 16 dan 18.5\tUnderweight\t\n",
    "Diantara 18.5 dan 25\tNormal (healthy weight)\t\n",
    "Diantara 25 dan 30\tOverweight\t\n",
    "Diantara 30 dan 35\tModerately obese\t\n",
    "Diantara 35 dan 40\tSeverely obese\t\n",
    "Over 40\tVery severely obese\n",
    "Buatlah sebuah program yang memiliki dua variabel berat badan dengan satuan KG, dan tinggi badan dengan satuan CM, kemudian keluaran dari program adalah Kategori BMI"
   ]
  },
  {
   "cell_type": "code",
   "execution_count": null,
   "metadata": {},
   "outputs": [],
   "source": [
    "print (\"hello\")"
   ]
  },
  {
   "cell_type": "code",
   "execution_count": null,
   "metadata": {},
   "outputs": [],
   "source": []
  },
  {
   "cell_type": "code",
   "execution_count": null,
   "metadata": {},
   "outputs": [],
   "source": [
    "x = 5 == 5\n",
    "y = 1 > 2\n",
    "\n",
    "\n",
    "print('x and y is',x and y)\n",
    "\n",
    "print('x or y is',x or y)\n",
    "\n",
    "print('not x is',not x)"
   ]
  },
  {
   "cell_type": "code",
   "execution_count": null,
   "metadata": {},
   "outputs": [],
   "source": [
    "print ('markdown')"
   ]
  },
  {
   "cell_type": "code",
   "execution_count": null,
   "metadata": {},
   "outputs": [],
   "source": [
    "print ('hello world')"
   ]
  },
  {
   "cell_type": "code",
   "execution_count": null,
   "metadata": {},
   "outputs": [],
   "source": [
    "# "
   ]
  }
 ],
 "metadata": {
  "kernelspec": {
   "display_name": "Python 3",
   "language": "python",
   "name": "python3"
  },
  "language_info": {
   "codemirror_mode": {
    "name": "ipython",
    "version": 3
   },
   "file_extension": ".py",
   "mimetype": "text/x-python",
   "name": "python",
   "nbconvert_exporter": "python",
   "pygments_lexer": "ipython3",
   "version": "3.7.0"
  }
 },
 "nbformat": 4,
 "nbformat_minor": 2
}
